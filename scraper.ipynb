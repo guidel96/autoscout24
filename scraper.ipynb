{
 "cells": [
  {
   "cell_type": "code",
   "execution_count": 1,
   "metadata": {},
   "outputs": [
    {
     "name": "stdout",
     "output_type": "stream",
     "text": [
      "Hello\n"
     ]
    }
   ],
   "source": [
    "print(\"Hello\")"
   ]
  },
  {
   "cell_type": "markdown",
   "metadata": {},
   "source": [
    "# Imports"
   ]
  },
  {
   "cell_type": "code",
   "execution_count": 4,
   "metadata": {},
   "outputs": [],
   "source": [
    "import pandas as pd\n",
    "import numpy as np\n",
    "import requests\n",
    "from requests import get\n",
    "from bs4 import BeautifulSoup\n",
    "import re\n",
    "import time \n",
    "from random import randint"
   ]
  },
  {
   "cell_type": "markdown",
   "metadata": {},
   "source": [
    "# Analysing the link\n",
    "\n",
    "The link to use (with some filters applied to it):\n",
    "\n",
    "\n",
    "https://www.autoscout24.be/fr/lst/volkswagen/polo/ot_occasion?offer=U&sort=age&desc=1&cy=B&atype=C&ustate=N%2CU&eq=49&fuel=D&powertype=hp&powerfrom=44&powerto=66&gear=M&emclass=5&custtype=P&search_id=x7v89zk0z9"
   ]
  },
  {
   "cell_type": "code",
   "execution_count": null,
   "metadata": {},
   "outputs": [],
   "source": [
    "# DIISECTING THE FIRST PAGE LINK'S CONTENT\n",
    "\n",
    "# https://www.autoscout24.be/fr\n",
    "# /lst/volkswagen/polo/ot_occasion?offer=U\n",
    "# &sort=age&desc=1&cy=B\n",
    "# &atype=C&ustate=N%2CU&eq=49\n",
    "# &fuel=D\n",
    "# &powertype=hp\n",
    "# &powerfrom=44&powerto=66\n",
    "# &gear=M\n",
    "# &emclass=5\n",
    "# &custtype=P\n",
    "# &search_id=x7v89zk0z9"
   ]
  },
  {
   "cell_type": "code",
   "execution_count": null,
   "metadata": {},
   "outputs": [],
   "source": [
    "# https://www.autoscout24.be/fr/\n",
    "# lst/volkswagen/polo/ot_occasion?offer=U\n",
    "# &sort=age&desc=1&cy=B\n",
    "# &atype=C&ustate=N%2CU&eq=49\n",
    "# &fuel=D\n",
    "# &powertype=hp\n",
    "# &powerfrom=44&powerto=66\n",
    "# &gear=M\n",
    "# &emclass=5\n",
    "# &custtype=P\n",
    "# &search_id=x7v89zk0z9\n",
    "# &page=2"
   ]
  },
  {
   "cell_type": "markdown",
   "metadata": {},
   "source": [
    "Without any surprise, both links are similar, except the last element.\n",
    "\n",
    "What's of interest is the last element of the link: the page. We will want to play with it.\n",
    "\n",
    "--> Need to keep the main link, and then add a variable called ```page``` that will iterate over the pages."
   ]
  },
  {
   "cell_type": "markdown",
   "metadata": {},
   "source": [
    "# Catching the html"
   ]
  },
  {
   "cell_type": "code",
   "execution_count": 9,
   "metadata": {},
   "outputs": [],
   "source": [
    "pages = np.arange(start=1, stop=3,step=1) # In this case, there are only 2 pages to scrape (the stop is not included)\n",
    "# pages # --> [1,2]"
   ]
  },
  {
   "cell_type": "code",
   "execution_count": 34,
   "metadata": {},
   "outputs": [],
   "source": [
    "link0 = 'https://www.autoscout24.be/fr/lst/volkswagen/polo/ot_occasion?offer=U&sort=age&desc=1&cy=B&atype=C&ustate=N%2CU&eq=49&fuel=D&powertype=hp&powerfrom=44&powerto=66&gear=M&emclass=5&custtype=P&search_id=x7v89zk0z9'\n",
    "\n",
    "\n",
    "# Create a loop that will scrape page by page\n",
    "for page in pages:\n",
    "    url = requests.get(str(link0)+'&page='+str(page)) \n"
   ]
  },
  {
   "cell_type": "markdown",
   "metadata": {},
   "source": [
    "# Extracting raw info from the scraped html\n",
    "Now that we have downloaded all the info from the website, we need to parse/extract some raw data.\n",
    "\n",
    "To do so, the BeautifulSoup package is very handy."
   ]
  },
  {
   "cell_type": "code",
   "execution_count": 35,
   "metadata": {},
   "outputs": [],
   "source": [
    "soup = BeautifulSoup(url.text, 'html.parser')\n",
    "#soup"
   ]
  },
  {
   "cell_type": "markdown",
   "metadata": {},
   "source": [
    "In order to extract information related to each car advertisement, we need to:   \n",
    "1. go to the web browser  \n",
    "2. inspect the html  \n",
    "3. find the corresponding class: in our case we will look at all items with ```class_='cldt-summary-full-item-main'```"
   ]
  },
  {
   "cell_type": "code",
   "execution_count": 22,
   "metadata": {},
   "outputs": [],
   "source": [
    "car_div = soup.find_all(\"article\", class_=\"cldt-summary-full-item\") \n",
    "\n",
    "#sleep(randint(1,4)) #wait for 1 to 4 sec. randomly to go next link. This is to prevent the algorithm to be considered by the website as a robot"
   ]
  },
  {
   "cell_type": "code",
   "execution_count": null,
   "metadata": {},
   "outputs": [],
   "source": []
  },
  {
   "cell_type": "markdown",
   "metadata": {},
   "source": [
    "## Extracting from ```article``` element\n",
    "Once each advertisement has been extracted, we need to scrape each individual ad to extract the different info it contains.\n",
    "When looking at the html, we see there is already some information we can extract from the ```article``` element class. So we can start there."
   ]
  },
  {
   "cell_type": "code",
   "execution_count": null,
   "metadata": {},
   "outputs": [],
   "source": [
    "# RAW html code as can be found when inspecting the webpage\n",
    "<article id=\"6a0e88ec-7085-4bf7-bd4b-4cbe6bfca47f\" class=\"cldt-summary-full-item listing-impressions-tracking list-page-item ListItem_article__ppamD\" \n",
    "data-testid=\"list-item\" \n",
    "data-guid=\"6a0e88ec-7085-4bf7-bd4b-4cbe6bfca47f\" \n",
    "data-customer-id=\"41249548\" \n",
    "data-vehicle-type=\"c\" \n",
    "data-price-label=\"somewhat-expensive\" \n",
    "data-source=\"listpage_search-results\" \n",
    "data-position=\"21\" \n",
    "data-price=\"6200\" \n",
    "data-make=\"volkswagen\" \n",
    "data-leads-range=\"some\" \n",
    "data-image-content=\"no-placeholder|0.33515167078199526\" \n",
    "data-seller-type=\"p\" \n",
    "data-otp=\"t10\" \n",
    "data-listing-country=\"b\" \n",
    "data-listing-zip-code=\"4500\" \n",
    "data-mileage=\"165000\" \n",
    "data-fuel-type=\"d\" \n",
    "data-model=\"polo\" \n",
    "data-first-registration=\"04-2011\" \n",
    "data-is-smyle-eligible=\"false\" \n",
    "data-ownership-models=\"tr\" \n",
    "__lptmarker=\"observed\">\n",
    "<div class=\"ListItem_wrapper__J_a_C\">\n",
    "<div class=\"Gallery_wrapper__o9mOe\"><section class=\"NewGallery_slider__Jva27\"><div class=\"NewGallery_item__AXdhd\" style=\"transform: translateX(0%);\"><picture class=\"NewGallery_picture__tRXvE\"><source srcset=\"https://prod.pictures.autoscout24.net/listing-images/6a0e88ec-7085-4bf7-bd4b-4cbe6bfca47f_ff6c8fed-8bc8-46ea-b766-9cc43072dabd.jpg/250x188.webp\" media=\"(min-width: 768px) and (max-width: 1099px) and (-webkit-max-device-pixel-ratio: 1)\" type=\"image/webp\"><source srcset=\"https://prod.pictures.autoscout24.net/listing-images/6a0e88ec-7085-4bf7-bd4b-4cbe6bfca47f_ff6c8fed-8bc8-46ea-b766-9cc43072dabd.jpg/250x188.jpg\" media=\"(min-width: 768px) and (max-width: 1099px) and (-webkit-max-device-pixel-ratio: 1)\" type=\"image/jpeg\"><source srcset=\"https://prod.pictures.autoscout24.net/listing-images/6a0e88ec-7085-4bf7-bd4b-4cbe6bfca47f_ff6c8fed-8bc8-46ea-b766-9cc43072dabd.jpg/480x360.webp\" media=\"(max-width: 767px), (min-width: 1100px), (-webkit-min-device-pixel-ratio: 1.01)\" type=\"image/webp\"><source srcset=\"https://prod.pictures.autoscout24.net/listing-images/6a0e88ec-7085-4bf7-bd4b-4cbe6bfca47f_ff6c8fed-8bc8-46ea-b766-9cc43072dabd.jpg/480x360.jpg\" media=\"(max-width: 767px), (min-width: 1100px), (-webkit-min-device-pixel-ratio: 1.01)\" type=\"image/jpeg\"><img src=\"https://prod.pictures.autoscout24.net/listing-images/6a0e88ec-7085-4bf7-bd4b-4cbe6bfca47f_ff6c8fed-8bc8-46ea-b766-9cc43072dabd.jpg/250x188.webp\" class=\"NewGallery_img__bi92g\" alt=\"\" loading=\"eager\" width=\"480\" height=\"360\"></picture></div><div class=\"NewGallery_item__AXdhd\" style=\"transform: translateX(100%);\"></div><div class=\"NewGallery_item__AXdhd\" style=\"transform: translateX(-100%);\"></div><button type=\"button\" class=\"NewGallery_btn__4yxn7 \">Précédent</button><button type=\"button\" class=\"NewGallery_btn__4yxn7 NewGallery_btn_next__S6T02\">Suivant</button><div class=\"NewGallery_counter__Sh_UF\">1 / 9</div></section></div><div class=\"ListItem_header__uPzec\"><a class=\"ListItem_title__znV2I Link_link__pjU1l\" href=\"https://www.autoscout24.be/fr/offres/volkswagen-polo-1-2-cr-tdi-bluemotion-dpf-89g-diesel-noir-6a0e88ec-7085-4bf7-bd4b-4cbe6bfca47f?sort=age&amp;desc=1&amp;lastSeenGuidPresent=false&amp;cldtidx=21&amp;position=21&amp;search_id=x7v89zk0z9&amp;source_otp=t10&amp;source=listpage_search-results\"><h2>Volkswagen Polo&nbsp;</h2><span class=\"ListItem_version__jNjur\">1.2 CR TDi BlueMotion DPF 89g</span></a><button type=\"button\" class=\"WrapperButton_action__Lhror\" tabindex=\"0\"><svg width=\"20\" height=\"20\" color=\"currentColor\" viewBox=\"0 0 24 24\"><use xlink:href=\"/assets/as24-search-funnel/icons/icons-sprite-69f03aa4.svg#star\"></use></svg><span>Sauver</span></button><button type=\"button\" class=\"WrapperButton_action__Lhror\" tabindex=\"0\" aria-describedby=\"popup-1483\"><svg width=\"20\" height=\"20\" color=\"currentColor\" viewBox=\"0 0 24 24\"><use xlink:href=\"/assets/as24-search-funnel/icons/icons-sprite-69f03aa4.svg#share\"></use></svg><span>Partager</span></button></div><div class=\"ListItem_listing__VjI4F\"><div class=\"ListItem_pricerow__6_wJa\"><div class=\"Price_wrapper__E5C5Y\"><p class=\"Price_price__WZayw\" style=\"--superscript: &quot;&quot;;\" data-testid=\"regular-price\">€ 6 200,-</p><div class=\"scr-price-label Price_label__66jIC\"><p>Pas d'information</p><div class=\"price-label-bar price-label-bar--unknown\"></div></div></div></div><div class=\"ListItem_bottomDivider___p0tm\"></div><div class=\"VehicleDetailTable_container__mUUbY\"><span class=\"VehicleDetailTable_item__koEV4\">165 000 km</span><span class=\"VehicleDetailTable_item__koEV4\">04/2011</span><span class=\"VehicleDetailTable_item__koEV4\">55 kW (75 CH)</span><span class=\"VehicleDetailTable_item__koEV4\">Occasion</span><span class=\"VehicleDetailTable_item__koEV4 VehicleDetailTable_silent__2917S\">- (Propriétaires préc.)</span><span class=\"VehicleDetailTable_item__koEV4\">Boîte manuelle</span><span class=\"VehicleDetailTable_item__koEV4\">Diesel</span><span class=\"VehicleDetailTable_item__koEV4\" style=\"--superscript: '2';\">3,4 l/100 km (mixte)</span><span class=\"VehicleDetailTable_item__koEV4\" style=\"--superscript: '2';\">89 g/km (mixte)</span></div></div></div><span class=\"SellerInfo_private__JCxcm\">Particuliers,<svg width=\"21\" color=\"currentColor\" viewBox=\"0 0 24 24\">\n",
    "<use xlink:href=\"/assets/as24-search-funnel/icons/icons-sprite-69f03aa4.svg#flag-be\"></use></svg>BE-4500 HUY</span></article>"
   ]
  },
  {
   "cell_type": "markdown",
   "metadata": {},
   "source": [
    "Let's already extract some of these informations."
   ]
  },
  {
   "cell_type": "code",
   "execution_count": null,
   "metadata": {},
   "outputs": [
    {
     "data": {
      "text/plain": [
       "'08-2016'"
      ]
     },
     "metadata": {},
     "output_type": "display_data"
    }
   ],
   "source": [
    "brand = car_div[0][\"data-make\"]\n",
    "car_type = car_div[0][\"data-model\"]\n",
    "price = car_div[0][\"data-price\"]\n",
    "seller_type = car_div[0][\"data-seller-type\"]\n",
    "listing_country = car_div[0][\"data-listing-country\"]\n",
    "listing_zip_code = car_div[0][\"data-listing-zip-code\"]\n",
    "mileage = car_div[0][\"data-mileage\"]\n",
    "fuel_type = car_div[0][\"data-fuel-type\"]\n",
    "first_registration = car_div[0][\"data-first-registration\"]"
   ]
  },
  {
   "cell_type": "markdown",
   "metadata": {},
   "source": [
    "## Extract content of the advertisements\n",
    "\n",
    "The advertisement also contain other kinds of information, so we need to scrape those as well."
   ]
  },
  {
   "cell_type": "code",
   "execution_count": 144,
   "metadata": {},
   "outputs": [
    {
     "data": {
      "text/plain": [
       "'1.4 CR TDi Sportline BMT'"
      ]
     },
     "execution_count": 144,
     "metadata": {},
     "output_type": "execute_result"
    }
   ],
   "source": [
    "brandname_and_model = car_div[0].div.a.h2.text #first part of the name, alternative code: car_div[0].div.a.find('h2').text\n",
    "#title = car_div[0].div.a.div.find('h2', class_='cldt-summary-makemodel sc-font-bold sc-ellipsis').text\n",
    "\n",
    "model_type = car_div[0].div.a.find(class_=\"ListItem_version__jNjur\").text #title / specific model. E.g. '1.4 CR TDi Sportline BMT'\n",
    "\n",
    "\n",
    "price2 = car_div[0].div.find(class_=\"Price_wrapper__E5C5Y\").p.text #price"
   ]
  },
  {
   "cell_type": "markdown",
   "metadata": {},
   "source": [
    "All the other elements are contained in a table."
   ]
  },
  {
   "cell_type": "code",
   "execution_count": 140,
   "metadata": {},
   "outputs": [
    {
     "data": {
      "text/plain": [
       "'81 g/km (mixte)'"
      ]
     },
     "execution_count": 140,
     "metadata": {},
     "output_type": "execute_result"
    }
   ],
   "source": [
    "car_div[0].div.find(class_=\"VehicleDetailTable_container__mUUbY\") #all data from the table\n",
    "car_div[0].div.find(class_=\"VehicleDetailTable_container__mUUbY\").select('span')[0].text  #.encode('utf-8') #mileage\n",
    "car_div[0].div.find(class_=\"VehicleDetailTable_container__mUUbY\").select('span')[1].text  #registration date\n",
    "car_div[0].div.find(class_=\"VehicleDetailTable_container__mUUbY\").select('span')[2].text  # power\n",
    "car_div[0].div.find(class_=\"VehicleDetailTable_container__mUUbY\").select('span')[3].text  # type, (occasion)\n",
    "car_div[0].div.find(class_=\"VehicleDetailTable_container__mUUbY\").select('span')[4].text  # nb proprietaires precedents\n",
    "car_div[0].div.find(class_=\"VehicleDetailTable_container__mUUbY\").select('span')[5].text  # type boite\n",
    "car_div[0].div.find(class_=\"VehicleDetailTable_container__mUUbY\").select('span')[6].text  # fuel_type\n",
    "car_div[0].div.find(class_=\"VehicleDetailTable_container__mUUbY\").select('span')[7].text  # fuel_consumption\n",
    "car_div[0].div.find(class_=\"VehicleDetailTable_container__mUUbY\").select('span')[8].text  # 81 g/km (mixte)\n"
   ]
  },
  {
   "cell_type": "markdown",
   "metadata": {},
   "source": [
    "Putting all these data together to summarize and get a better overview..."
   ]
  },
  {
   "cell_type": "code",
   "execution_count": 145,
   "metadata": {},
   "outputs": [],
   "source": [
    "brand = car_div[0][\"data-make\"]\n",
    "car_type = car_div[0][\"data-model\"]\n",
    "brandname_and_model = car_div[0].div.a.h2.text #first part of the ad title, equivalent to brand & car_type combined. Alternative code: car_div[0].div.a.find('h2').text\n",
    "model_type = car_div[0].div.a.find(class_=\"ListItem_version__jNjur\").text #title / specific model. E.g. '1.4 CR TDi Sportline BMT'\n",
    "\n",
    "price = car_div[0][\"data-price\"]\n",
    "price2 = car_div[0].div.find(class_=\"Price_wrapper__E5C5Y\").p.text                                              #price\n",
    "seller_type = car_div[0][\"data-seller-type\"]\n",
    "selling_type = car_div[0].div.find(class_=\"VehicleDetailTable_container__mUUbY\").select('span')[3].text         # occasion, new,...\n",
    "listing_country = car_div[0][\"data-listing-country\"]\n",
    "listing_zip_code = car_div[0][\"data-listing-zip-code\"]\n",
    "nb_previous_owners = car_div[0].div.find(class_=\"VehicleDetailTable_container__mUUbY\").select('span')[4].text  \n",
    "\n",
    "mileage = car_div[0][\"data-mileage\"]\n",
    "mileage2 = car_div[0].div.find(class_=\"VehicleDetailTable_container__mUUbY\").select('span')[0].text             # in km\n",
    "power = car_div[0].div.find(class_=\"VehicleDetailTable_container__mUUbY\").select('span')[2].text                # e.g. 55kW (75 CH)\n",
    "transmission = car_div[0].div.find(class_=\"VehicleDetailTable_container__mUUbY\").select('span')[5].text         #automatic, manual,...\n",
    "\n",
    "fuel_type = car_div[0][\"data-fuel-type\"]\n",
    "fuel_type2 = car_div[0].div.find(class_=\"VehicleDetailTable_container__mUUbY\").select('span')[6].text           # e.g. diesel\n",
    "fuel_consumption = car_div[0].div.find(class_=\"VehicleDetailTable_container__mUUbY\").select('span')[7].text     # e.g. X l/100km\n",
    "fuel_emissions = car_div[0].div.find(class_=\"VehicleDetailTable_container__mUUbY\").select('span')[8].text       # e.g. 81 g/km (mixte)\n",
    "\n",
    "first_registration = car_div[0][\"data-first-registration\"]                                                      # date\n",
    "first_registration2 = car_div[0].div.find(class_=\"VehicleDetailTable_container__mUUbY\").select('span')[1].text  # date"
   ]
  },
  {
   "cell_type": "markdown",
   "metadata": {},
   "source": [
    "# Full code\n",
    "\n",
    "## Setting column names"
   ]
  },
  {
   "cell_type": "code",
   "execution_count": 168,
   "metadata": {},
   "outputs": [],
   "source": [
    "\n",
    "'''\n",
    "del(Brand)\n",
    "del(Car_type)\n",
    "del(Brandname_and_model)\n",
    "del(Model_type)\n",
    "del(Price)\n",
    "del(Price2)\n",
    "del(Seller_type)\n",
    "del(Selling_type)\n",
    "del(Listing_country)\n",
    "del(Listing_zip_code)\n",
    "del(Nb_previous_owners)\n",
    "\n",
    "del(Mileage)\n",
    "del(Mileage2)\n",
    "del(Power)\n",
    "del(Transmission)\n",
    "\n",
    "del(Fuel_type)\n",
    "del(Fuel_type2)\n",
    "del(Fuel_consumption)\n",
    "del(Fuel_emissions)\n",
    "\n",
    "del(First_registration)\n",
    "del(First_registration2)\n",
    "'''\n"
   ]
  },
  {
   "cell_type": "code",
   "execution_count": 5,
   "metadata": {},
   "outputs": [],
   "source": [
    "# We will use capital letters for column names to make a distinction with the individual elements\n",
    "Brand = []\n",
    "Car_type = []\n",
    "Brandname_and_model = []\n",
    "Model_type = []\n",
    "Price = []\n",
    "Price2= []\n",
    "Seller_type = []\n",
    "Selling_type = []\n",
    "Listing_country = []\n",
    "Listing_zip_code = []\n",
    "Nb_previous_owners = []\n",
    "\n",
    "Mileage = []\n",
    "Mileage2 = []\n",
    "Power = []\n",
    "Transmission = []\n",
    "\n",
    "Fuel_type = []\n",
    "Fuel_type2 = []\n",
    "Fuel_consumption = []\n",
    "Fuel_emissions = []\n",
    "\n",
    "First_registration = []\n",
    "First_registration2 = []"
   ]
  },
  {
   "cell_type": "markdown",
   "metadata": {},
   "source": [
    "Let's now scrape all data and store it.\n"
   ]
  },
  {
   "cell_type": "code",
   "execution_count": 6,
   "metadata": {},
   "outputs": [
    {
     "name": "stderr",
     "output_type": "stream",
     "text": [
      "c:\\Users\\SW738ZZ\\Anaconda3\\lib\\site-packages\\urllib3\\connectionpool.py:1043: InsecureRequestWarning: Unverified HTTPS request is being made to host 'www.autoscout24.be'. Adding certificate verification is strongly advised. See: https://urllib3.readthedocs.io/en/1.26.x/advanced-usage.html#ssl-warnings\n",
      "  warnings.warn(\n",
      "c:\\Users\\SW738ZZ\\Anaconda3\\lib\\site-packages\\urllib3\\connectionpool.py:1043: InsecureRequestWarning: Unverified HTTPS request is being made to host 'www.autoscout24.be'. Adding certificate verification is strongly advised. See: https://urllib3.readthedocs.io/en/1.26.x/advanced-usage.html#ssl-warnings\n",
      "  warnings.warn(\n"
     ]
    }
   ],
   "source": [
    "\n",
    "pages = np.arange(start=1, stop=3,step=1) #there are only 2 pages to scroll through\n",
    "\n",
    "link0 = 'https://www.autoscout24.be/fr/lst/volkswagen/polo/ot_occasion?offer=U&sort=age&desc=1&cy=B&atype=C&ustate=N%2CU&eq=49&fuel=D&powertype=hp&powerfrom=44&powerto=66&gear=M&emclass=5&custtype=P&search_id=x7v89zk0z9'\n",
    "\n",
    "\n",
    "# Create a loop that will scrape page by page\n",
    "for page in pages:\n",
    "    url = requests.get(str(link0)+'&page='+str(page), verify=False) # using requests.get(url, verify=False) might prevent the SSL connection error\n",
    "    \n",
    "    soup = BeautifulSoup(url.text, 'html.parser')\n",
    "    car_div = soup.find_all(\"article\", class_=\"cldt-summary-full-item\") \n",
    "\n",
    "    time.sleep(randint(1,4)) # wait some time\n",
    "\n",
    "    for cars in car_div: #for each advertisement, do ...\n",
    "    \n",
    "        \n",
    "        brand = cars[\"data-make\"]\n",
    "        Brand.append(brand)\n",
    "        \n",
    "        car_type = cars[\"data-model\"]\n",
    "        Car_type.append(car_type)\n",
    "\n",
    "        brandname_and_model = cars.div.a.h2.text #first part of the ad title, equivalent to brand & car_type combined. Alternative code: car_div[0].div.a.find('h2').text\n",
    "        Brandname_and_model.append(brandname_and_model)\n",
    "\n",
    "        model_type = cars.div.a.find(class_=\"ListItem_version__jNjur\").text #title / specific model. E.g. '1.4 CR TDi Sportline BMT'\n",
    "        Model_type.append(model_type)\n",
    "\n",
    "        price = cars[\"data-price\"]\n",
    "        Price.append(price)\n",
    "\n",
    "        price2 = cars.div.find(class_=\"Price_wrapper__E5C5Y\").p.text                                              #price\n",
    "        Price2.append(price2)\n",
    "\n",
    "        seller_type = cars[\"data-seller-type\"]\n",
    "        Seller_type.append(seller_type)\n",
    "\n",
    "        selling_type = cars.div.find(class_=\"VehicleDetailTable_container__mUUbY\").select('span')[3].text         # occasion, new,...\n",
    "        Selling_type.append(selling_type)\n",
    "\n",
    "        listing_country = cars[\"data-listing-country\"]\n",
    "        Listing_country.append(listing_country)\n",
    "\n",
    "        listing_zip_code = cars[\"data-listing-zip-code\"]\n",
    "        Listing_zip_code.append(listing_zip_code)\n",
    "\n",
    "        nb_previous_owners = cars.div.find(class_=\"VehicleDetailTable_container__mUUbY\").select('span')[4].text  \n",
    "        Nb_previous_owners.append(nb_previous_owners)\n",
    "\n",
    "        mileage = cars[\"data-mileage\"]\n",
    "        Mileage.append(mileage)\n",
    "\n",
    "        mileage2 = cars.div.find(class_=\"VehicleDetailTable_container__mUUbY\").select('span')[0].text             # in km\n",
    "        Mileage2.append(mileage2)\n",
    "\n",
    "        power = cars.div.find(class_=\"VehicleDetailTable_container__mUUbY\").select('span')[2].text                # e.g. 55kW (75 CH)\n",
    "        Power.append(power)\n",
    "\n",
    "        transmission = cars.div.find(class_=\"VehicleDetailTable_container__mUUbY\").select('span')[5].text         #automatic, manual,...\n",
    "        Transmission.append(transmission)\n",
    "\n",
    "        fuel_type = cars[\"data-fuel-type\"]\n",
    "        Fuel_type.append(fuel_type)\n",
    "\n",
    "        fuel_type2 = cars.div.find(class_=\"VehicleDetailTable_container__mUUbY\").select('span')[6].text           # e.g. diesel\n",
    "        Fuel_type2.append(fuel_type2)\n",
    "\n",
    "        fuel_consumption = cars.div.find(class_=\"VehicleDetailTable_container__mUUbY\").select('span')[7].text     # e.g. X l/100km\n",
    "        Fuel_consumption.append(fuel_consumption)\n",
    "\n",
    "        fuel_emissions = cars.div.find(class_=\"VehicleDetailTable_container__mUUbY\").select('span')[8].text       # e.g. 81 g/km (mixte)\n",
    "        Fuel_emissions.append(fuel_emissions)\n",
    "\n",
    "        first_registration = cars[\"data-first-registration\"]  \n",
    "        First_registration.append(first_registration)                                                    # date\n",
    "\n",
    "        first_registration2 = cars.div.find(class_=\"VehicleDetailTable_container__mUUbY\").select('span')[1].text  # date\n",
    "        First_registration2.append(first_registration2)\n"
   ]
  },
  {
   "cell_type": "markdown",
   "metadata": {},
   "source": [
    "# Getting info in DataFrame"
   ]
  },
  {
   "cell_type": "code",
   "execution_count": 7,
   "metadata": {},
   "outputs": [],
   "source": [
    "#del(Used_Car)\n",
    "Used_Car = pd.DataFrame(\n",
    "    {\n",
    "        'Brand':Brand,\n",
    "    'Car_type': Car_type,\n",
    "    'Brandname_and_model': Brandname_and_model,\n",
    "    'Model_type': Model_type,\n",
    "    'Price': Price,\n",
    "    'Price2':Price2,\n",
    "    'Seller_type':Seller_type,\n",
    "    'Selling_type':Selling_type,\n",
    "    'Listing_country': Listing_country,\n",
    "    'Listing_zip_code':Listing_zip_code,\n",
    "    'Nb_previous_owners': Nb_previous_owners,\n",
    "    'Mileage':Mileage,\n",
    "    'Mileage2':Mileage2,\n",
    "    'Power':Power,\n",
    "    'Transmission':Transmission,\n",
    "    'Fuel_type':Fuel_type,\n",
    "    'Fuel_type2':Fuel_type2,\n",
    "    'Fuel_consumption':Fuel_consumption,\n",
    "    'Fuel_emissions':Fuel_emissions,\n",
    "    'First_registration':First_registration,\n",
    "    'First_registration2':First_registration2\n",
    "    }\n",
    "    )"
   ]
  },
  {
   "cell_type": "code",
   "execution_count": 8,
   "metadata": {},
   "outputs": [
    {
     "data": {
      "text/html": [
       "<div>\n",
       "<style scoped>\n",
       "    .dataframe tbody tr th:only-of-type {\n",
       "        vertical-align: middle;\n",
       "    }\n",
       "\n",
       "    .dataframe tbody tr th {\n",
       "        vertical-align: top;\n",
       "    }\n",
       "\n",
       "    .dataframe thead th {\n",
       "        text-align: right;\n",
       "    }\n",
       "</style>\n",
       "<table border=\"1\" class=\"dataframe\">\n",
       "  <thead>\n",
       "    <tr style=\"text-align: right;\">\n",
       "      <th></th>\n",
       "      <th>Brand</th>\n",
       "      <th>Car_type</th>\n",
       "      <th>Brandname_and_model</th>\n",
       "      <th>Model_type</th>\n",
       "      <th>Price</th>\n",
       "      <th>Price2</th>\n",
       "      <th>Seller_type</th>\n",
       "      <th>Selling_type</th>\n",
       "      <th>Listing_country</th>\n",
       "      <th>Listing_zip_code</th>\n",
       "      <th>...</th>\n",
       "      <th>Mileage</th>\n",
       "      <th>Mileage2</th>\n",
       "      <th>Power</th>\n",
       "      <th>Transmission</th>\n",
       "      <th>Fuel_type</th>\n",
       "      <th>Fuel_type2</th>\n",
       "      <th>Fuel_consumption</th>\n",
       "      <th>Fuel_emissions</th>\n",
       "      <th>First_registration</th>\n",
       "      <th>First_registration2</th>\n",
       "    </tr>\n",
       "  </thead>\n",
       "  <tbody>\n",
       "    <tr>\n",
       "      <th>0</th>\n",
       "      <td>volkswagen</td>\n",
       "      <td>polo</td>\n",
       "      <td>Volkswagen Polo</td>\n",
       "      <td>1.6 CR TDi Comfortline BMT DPF</td>\n",
       "      <td>3750</td>\n",
       "      <td>€ 3 750,-</td>\n",
       "      <td>p</td>\n",
       "      <td>Occasion</td>\n",
       "      <td>b</td>\n",
       "      <td>6470</td>\n",
       "      <td>...</td>\n",
       "      <td>233394</td>\n",
       "      <td>233 394 km</td>\n",
       "      <td>66 kW (90 CH)</td>\n",
       "      <td>Boîte manuelle</td>\n",
       "      <td>d</td>\n",
       "      <td>Diesel</td>\n",
       "      <td>3,7 l/100 km (mixte)</td>\n",
       "      <td>96 g/km (mixte)</td>\n",
       "      <td>03-2010</td>\n",
       "      <td>03/2010</td>\n",
       "    </tr>\n",
       "    <tr>\n",
       "      <th>1</th>\n",
       "      <td>volkswagen</td>\n",
       "      <td>polo</td>\n",
       "      <td>Volkswagen Polo</td>\n",
       "      <td>1.4 CR TDi Trendline BMT</td>\n",
       "      <td>9900</td>\n",
       "      <td>€ 9 900,-</td>\n",
       "      <td>p</td>\n",
       "      <td>Occasion</td>\n",
       "      <td>b</td>\n",
       "      <td>1320</td>\n",
       "      <td>...</td>\n",
       "      <td>129600</td>\n",
       "      <td>129 600 km</td>\n",
       "      <td>55 kW (75 CH)</td>\n",
       "      <td>Boîte manuelle</td>\n",
       "      <td>d</td>\n",
       "      <td>Diesel</td>\n",
       "      <td>3,8 l/100 km</td>\n",
       "      <td>93 g/km (mixte)</td>\n",
       "      <td>09-2016</td>\n",
       "      <td>09/2016</td>\n",
       "    </tr>\n",
       "    <tr>\n",
       "      <th>2</th>\n",
       "      <td>volkswagen</td>\n",
       "      <td>polo</td>\n",
       "      <td>Volkswagen Polo</td>\n",
       "      <td>1.4 CR TDi BlueMotion</td>\n",
       "      <td>11499</td>\n",
       "      <td>€ 11 499,-</td>\n",
       "      <td>p</td>\n",
       "      <td>Occasion</td>\n",
       "      <td>b</td>\n",
       "      <td>6210</td>\n",
       "      <td>...</td>\n",
       "      <td>125000</td>\n",
       "      <td>125 000 km</td>\n",
       "      <td>55 kW (75 CH)</td>\n",
       "      <td>Boîte manuelle</td>\n",
       "      <td>d</td>\n",
       "      <td>Diesel</td>\n",
       "      <td>3,1 l/100 km (mixte)</td>\n",
       "      <td>82 g/km (mixte)</td>\n",
       "      <td>11-2015</td>\n",
       "      <td>11/2015</td>\n",
       "    </tr>\n",
       "    <tr>\n",
       "      <th>3</th>\n",
       "      <td>volkswagen</td>\n",
       "      <td>polo</td>\n",
       "      <td>Volkswagen Polo</td>\n",
       "      <td>1.2 CR TDi Black Edition DPF</td>\n",
       "      <td>6700</td>\n",
       "      <td>€ 6 700,-</td>\n",
       "      <td>p</td>\n",
       "      <td>Occasion</td>\n",
       "      <td>b</td>\n",
       "      <td>5361</td>\n",
       "      <td>...</td>\n",
       "      <td>132997</td>\n",
       "      <td>132 997 km</td>\n",
       "      <td>55 kW (75 CH)</td>\n",
       "      <td>Boîte manuelle</td>\n",
       "      <td>d</td>\n",
       "      <td>Diesel</td>\n",
       "      <td>- (l/100 km)</td>\n",
       "      <td>- (g/km)</td>\n",
       "      <td>08-2013</td>\n",
       "      <td>08/2013</td>\n",
       "    </tr>\n",
       "    <tr>\n",
       "      <th>4</th>\n",
       "      <td>volkswagen</td>\n",
       "      <td>polo</td>\n",
       "      <td>Volkswagen Polo</td>\n",
       "      <td>1.4 CR TDi Sportline BMT</td>\n",
       "      <td>8900</td>\n",
       "      <td>€ 8 900,-</td>\n",
       "      <td>p</td>\n",
       "      <td>Occasion</td>\n",
       "      <td>b</td>\n",
       "      <td>6791</td>\n",
       "      <td>...</td>\n",
       "      <td>130000</td>\n",
       "      <td>130 000 km</td>\n",
       "      <td>66 kW (90 CH)</td>\n",
       "      <td>Boîte manuelle</td>\n",
       "      <td>d</td>\n",
       "      <td>Diesel</td>\n",
       "      <td>4 l/100 km</td>\n",
       "      <td>81 g/km (mixte)</td>\n",
       "      <td>08-2016</td>\n",
       "      <td>08/2016</td>\n",
       "    </tr>\n",
       "  </tbody>\n",
       "</table>\n",
       "<p>5 rows × 21 columns</p>\n",
       "</div>"
      ],
      "text/plain": [
       "        Brand Car_type Brandname_and_model                      Model_type  \\\n",
       "0  volkswagen     polo    Volkswagen Polo   1.6 CR TDi Comfortline BMT DPF   \n",
       "1  volkswagen     polo    Volkswagen Polo         1.4 CR TDi Trendline BMT   \n",
       "2  volkswagen     polo    Volkswagen Polo            1.4 CR TDi BlueMotion   \n",
       "3  volkswagen     polo    Volkswagen Polo     1.2 CR TDi Black Edition DPF   \n",
       "4  volkswagen     polo    Volkswagen Polo         1.4 CR TDi Sportline BMT   \n",
       "\n",
       "   Price      Price2 Seller_type Selling_type Listing_country  \\\n",
       "0   3750   € 3 750,-           p     Occasion               b   \n",
       "1   9900   € 9 900,-           p     Occasion               b   \n",
       "2  11499  € 11 499,-           p     Occasion               b   \n",
       "3   6700   € 6 700,-           p     Occasion               b   \n",
       "4   8900   € 8 900,-           p     Occasion               b   \n",
       "\n",
       "  Listing_zip_code  ... Mileage    Mileage2          Power    Transmission  \\\n",
       "0             6470  ...  233394  233 394 km  66 kW (90 CH)  Boîte manuelle   \n",
       "1             1320  ...  129600  129 600 km  55 kW (75 CH)  Boîte manuelle   \n",
       "2             6210  ...  125000  125 000 km  55 kW (75 CH)  Boîte manuelle   \n",
       "3             5361  ...  132997  132 997 km  55 kW (75 CH)  Boîte manuelle   \n",
       "4             6791  ...  130000  130 000 km  66 kW (90 CH)  Boîte manuelle   \n",
       "\n",
       "  Fuel_type Fuel_type2      Fuel_consumption   Fuel_emissions  \\\n",
       "0         d     Diesel  3,7 l/100 km (mixte)  96 g/km (mixte)   \n",
       "1         d     Diesel          3,8 l/100 km  93 g/km (mixte)   \n",
       "2         d     Diesel  3,1 l/100 km (mixte)  82 g/km (mixte)   \n",
       "3         d     Diesel          - (l/100 km)         - (g/km)   \n",
       "4         d     Diesel            4 l/100 km  81 g/km (mixte)   \n",
       "\n",
       "  First_registration First_registration2  \n",
       "0            03-2010             03/2010  \n",
       "1            09-2016             09/2016  \n",
       "2            11-2015             11/2015  \n",
       "3            08-2013             08/2013  \n",
       "4            08-2016             08/2016  \n",
       "\n",
       "[5 rows x 21 columns]"
      ]
     },
     "execution_count": 8,
     "metadata": {},
     "output_type": "execute_result"
    }
   ],
   "source": [
    "Used_Car.head()"
   ]
  },
  {
   "cell_type": "markdown",
   "metadata": {},
   "source": [
    "# Data Cleaning\n",
    "\n",
    "Some simple data cleaning steps:\n",
    "- Create column ```specific_model```: extract information about the model (1.2, 1.4, or 1.6)\n",
    "- Create column ```power_CH```: just an integer indicating the amount of CH (so remove the kW data)\n",
    "- Set column ```First_registration2``` to a data format"
   ]
  },
  {
   "cell_type": "markdown",
   "metadata": {},
   "source": [
    "## Extract specific information"
   ]
  },
  {
   "cell_type": "code",
   "execution_count": 9,
   "metadata": {},
   "outputs": [],
   "source": [
    "#column_name = df['']\n",
    "def label_specific_model(row): #extract if it's either 1.2, 1.4, or 1.6\n",
    "    if \"1.2\" in row['Model_type']:\n",
    "        return 1.2\n",
    "    elif \"1.4\" in row['Model_type']:\n",
    "        return 1.4\n",
    "    elif \"1.6\" in row['Model_type']:\n",
    "        return 1.6\n",
    "    #elif column_name.\n",
    "    else:\n",
    "        return np.nan"
   ]
  },
  {
   "cell_type": "code",
   "execution_count": 28,
   "metadata": {},
   "outputs": [],
   "source": [
    "'''TESTING\n",
    "df = Used_Car\n",
    "df['test_specific_model'] = df.apply(lambda row: label_specific_model(row), axis=1)\n",
    "df.loc[df['test_specific_model'].isnull(), ['test_specific_model','Model_type']]\n",
    "'''"
   ]
  },
  {
   "cell_type": "code",
   "execution_count": 10,
   "metadata": {},
   "outputs": [],
   "source": [
    "# create new column 'test_specific_model' and apply a function that extracts the number\n",
    "Used_Car['specific_model'] = Used_Car.apply(lambda row: label_specific_model(row), axis=1)\n"
   ]
  },
  {
   "cell_type": "code",
   "execution_count": 17,
   "metadata": {},
   "outputs": [
    {
     "data": {
      "text/html": [
       "<div>\n",
       "<style scoped>\n",
       "    .dataframe tbody tr th:only-of-type {\n",
       "        vertical-align: middle;\n",
       "    }\n",
       "\n",
       "    .dataframe tbody tr th {\n",
       "        vertical-align: top;\n",
       "    }\n",
       "\n",
       "    .dataframe thead th {\n",
       "        text-align: right;\n",
       "    }\n",
       "</style>\n",
       "<table border=\"1\" class=\"dataframe\">\n",
       "  <thead>\n",
       "    <tr style=\"text-align: right;\">\n",
       "      <th></th>\n",
       "      <th>Model_type</th>\n",
       "      <th>specific_model</th>\n",
       "    </tr>\n",
       "  </thead>\n",
       "  <tbody>\n",
       "    <tr>\n",
       "      <th>0</th>\n",
       "      <td>1.6 CR TDi Comfortline BMT DPF</td>\n",
       "      <td>1.6</td>\n",
       "    </tr>\n",
       "    <tr>\n",
       "      <th>1</th>\n",
       "      <td>1.4 CR TDi Trendline BMT</td>\n",
       "      <td>1.4</td>\n",
       "    </tr>\n",
       "    <tr>\n",
       "      <th>2</th>\n",
       "      <td>1.4 CR TDi BlueMotion</td>\n",
       "      <td>1.4</td>\n",
       "    </tr>\n",
       "    <tr>\n",
       "      <th>3</th>\n",
       "      <td>1.2 CR TDi Black Edition DPF</td>\n",
       "      <td>1.2</td>\n",
       "    </tr>\n",
       "    <tr>\n",
       "      <th>4</th>\n",
       "      <td>1.4 CR TDi Sportline BMT</td>\n",
       "      <td>1.4</td>\n",
       "    </tr>\n",
       "  </tbody>\n",
       "</table>\n",
       "</div>"
      ],
      "text/plain": [
       "                       Model_type  specific_model\n",
       "0  1.6 CR TDi Comfortline BMT DPF             1.6\n",
       "1        1.4 CR TDi Trendline BMT             1.4\n",
       "2           1.4 CR TDi BlueMotion             1.4\n",
       "3    1.2 CR TDi Black Edition DPF             1.2\n",
       "4        1.4 CR TDi Sportline BMT             1.4"
      ]
     },
     "execution_count": 17,
     "metadata": {},
     "output_type": "execute_result"
    }
   ],
   "source": [
    "# Display result\n",
    "#Used_Car[:,['Model_type','specific_model']].head() # doesn't work...\n",
    "Used_Car[:][['Model_type','specific_model']].head()"
   ]
  },
  {
   "cell_type": "code",
   "execution_count": 18,
   "metadata": {},
   "outputs": [
    {
     "data": {
      "text/html": [
       "<div>\n",
       "<style scoped>\n",
       "    .dataframe tbody tr th:only-of-type {\n",
       "        vertical-align: middle;\n",
       "    }\n",
       "\n",
       "    .dataframe tbody tr th {\n",
       "        vertical-align: top;\n",
       "    }\n",
       "\n",
       "    .dataframe thead th {\n",
       "        text-align: right;\n",
       "    }\n",
       "</style>\n",
       "<table border=\"1\" class=\"dataframe\">\n",
       "  <thead>\n",
       "    <tr style=\"text-align: right;\">\n",
       "      <th></th>\n",
       "      <th>specific_model</th>\n",
       "      <th>Model_type</th>\n",
       "    </tr>\n",
       "  </thead>\n",
       "  <tbody>\n",
       "    <tr>\n",
       "      <th>21</th>\n",
       "      <td>NaN</td>\n",
       "      <td></td>\n",
       "    </tr>\n",
       "    <tr>\n",
       "      <th>27</th>\n",
       "      <td>NaN</td>\n",
       "      <td>CR TDi Comfortline DPF</td>\n",
       "    </tr>\n",
       "  </tbody>\n",
       "</table>\n",
       "</div>"
      ],
      "text/plain": [
       "    specific_model              Model_type\n",
       "21             NaN                        \n",
       "27             NaN  CR TDi Comfortline DPF"
      ]
     },
     "execution_count": 18,
     "metadata": {},
     "output_type": "execute_result"
    }
   ],
   "source": [
    "# Check into values we couldn't convert\n",
    "Used_Car.loc[Used_Car['specific_model'].isnull(), ['specific_model','Model_type']]\n"
   ]
  },
  {
   "cell_type": "markdown",
   "metadata": {},
   "source": [
    "## Extract Power in CH"
   ]
  },
  {
   "cell_type": "code",
   "execution_count": 19,
   "metadata": {},
   "outputs": [],
   "source": [
    "#couldn't find the appropriate regex so I'll stick to using .split() within a custom function\n",
    "def splitting(row):\n",
    "    return row['Power'].split(\"(\")[1].split(\" \")[0]\n",
    "\n",
    "#df[\"testing\"] = df.apply(splitting, axis=1) \n",
    "Used_Car['Power_CH'] = Used_Car.apply(splitting, axis=1) #or df.apply(lambda row: splitting(row), axis=1)\n",
    "\n",
    "# Used_Car['Power_CH']"
   ]
  },
  {
   "cell_type": "markdown",
   "metadata": {},
   "source": [
    "## Change registration date to a date format"
   ]
  },
  {
   "cell_type": "code",
   "execution_count": null,
   "metadata": {},
   "outputs": [],
   "source": []
  },
  {
   "cell_type": "code",
   "execution_count": null,
   "metadata": {},
   "outputs": [],
   "source": []
  },
  {
   "cell_type": "code",
   "execution_count": null,
   "metadata": {},
   "outputs": [],
   "source": []
  },
  {
   "cell_type": "markdown",
   "metadata": {},
   "source": [
    "# Save raw data\n",
    "Export the dataframe"
   ]
  },
  {
   "cell_type": "code",
   "execution_count": 21,
   "metadata": {},
   "outputs": [],
   "source": [
    "Used_Car.to_csv(\"./Used_cars.csv\")"
   ]
  },
  {
   "cell_type": "markdown",
   "metadata": {},
   "source": [
    "# Data Visualization"
   ]
  },
  {
   "cell_type": "code",
   "execution_count": null,
   "metadata": {},
   "outputs": [],
   "source": [
    "#Reload the data if needed\n",
    "#Used_Car = pd.read_csv(\"./Used_cars.csv\", header=True)\n",
    "#Used_Car = pd.DataFrame(Used_Car)"
   ]
  },
  {
   "cell_type": "code",
   "execution_count": 22,
   "metadata": {},
   "outputs": [
    {
     "data": {
      "text/html": [
       "<div>\n",
       "<style scoped>\n",
       "    .dataframe tbody tr th:only-of-type {\n",
       "        vertical-align: middle;\n",
       "    }\n",
       "\n",
       "    .dataframe tbody tr th {\n",
       "        vertical-align: top;\n",
       "    }\n",
       "\n",
       "    .dataframe thead th {\n",
       "        text-align: right;\n",
       "    }\n",
       "</style>\n",
       "<table border=\"1\" class=\"dataframe\">\n",
       "  <thead>\n",
       "    <tr style=\"text-align: right;\">\n",
       "      <th></th>\n",
       "      <th>Brand</th>\n",
       "      <th>Car_type</th>\n",
       "      <th>Brandname_and_model</th>\n",
       "      <th>Model_type</th>\n",
       "      <th>Price</th>\n",
       "      <th>Price2</th>\n",
       "      <th>Seller_type</th>\n",
       "      <th>Selling_type</th>\n",
       "      <th>Listing_country</th>\n",
       "      <th>Listing_zip_code</th>\n",
       "      <th>...</th>\n",
       "      <th>Power</th>\n",
       "      <th>Transmission</th>\n",
       "      <th>Fuel_type</th>\n",
       "      <th>Fuel_type2</th>\n",
       "      <th>Fuel_consumption</th>\n",
       "      <th>Fuel_emissions</th>\n",
       "      <th>First_registration</th>\n",
       "      <th>First_registration2</th>\n",
       "      <th>specific_model</th>\n",
       "      <th>Power_CH</th>\n",
       "    </tr>\n",
       "  </thead>\n",
       "  <tbody>\n",
       "    <tr>\n",
       "      <th>0</th>\n",
       "      <td>volkswagen</td>\n",
       "      <td>polo</td>\n",
       "      <td>Volkswagen Polo</td>\n",
       "      <td>1.6 CR TDi Comfortline BMT DPF</td>\n",
       "      <td>3750</td>\n",
       "      <td>€ 3 750,-</td>\n",
       "      <td>p</td>\n",
       "      <td>Occasion</td>\n",
       "      <td>b</td>\n",
       "      <td>6470</td>\n",
       "      <td>...</td>\n",
       "      <td>66 kW (90 CH)</td>\n",
       "      <td>Boîte manuelle</td>\n",
       "      <td>d</td>\n",
       "      <td>Diesel</td>\n",
       "      <td>3,7 l/100 km (mixte)</td>\n",
       "      <td>96 g/km (mixte)</td>\n",
       "      <td>03-2010</td>\n",
       "      <td>03/2010</td>\n",
       "      <td>1.6</td>\n",
       "      <td>90</td>\n",
       "    </tr>\n",
       "    <tr>\n",
       "      <th>1</th>\n",
       "      <td>volkswagen</td>\n",
       "      <td>polo</td>\n",
       "      <td>Volkswagen Polo</td>\n",
       "      <td>1.4 CR TDi Trendline BMT</td>\n",
       "      <td>9900</td>\n",
       "      <td>€ 9 900,-</td>\n",
       "      <td>p</td>\n",
       "      <td>Occasion</td>\n",
       "      <td>b</td>\n",
       "      <td>1320</td>\n",
       "      <td>...</td>\n",
       "      <td>55 kW (75 CH)</td>\n",
       "      <td>Boîte manuelle</td>\n",
       "      <td>d</td>\n",
       "      <td>Diesel</td>\n",
       "      <td>3,8 l/100 km</td>\n",
       "      <td>93 g/km (mixte)</td>\n",
       "      <td>09-2016</td>\n",
       "      <td>09/2016</td>\n",
       "      <td>1.4</td>\n",
       "      <td>75</td>\n",
       "    </tr>\n",
       "    <tr>\n",
       "      <th>2</th>\n",
       "      <td>volkswagen</td>\n",
       "      <td>polo</td>\n",
       "      <td>Volkswagen Polo</td>\n",
       "      <td>1.4 CR TDi BlueMotion</td>\n",
       "      <td>11499</td>\n",
       "      <td>€ 11 499,-</td>\n",
       "      <td>p</td>\n",
       "      <td>Occasion</td>\n",
       "      <td>b</td>\n",
       "      <td>6210</td>\n",
       "      <td>...</td>\n",
       "      <td>55 kW (75 CH)</td>\n",
       "      <td>Boîte manuelle</td>\n",
       "      <td>d</td>\n",
       "      <td>Diesel</td>\n",
       "      <td>3,1 l/100 km (mixte)</td>\n",
       "      <td>82 g/km (mixte)</td>\n",
       "      <td>11-2015</td>\n",
       "      <td>11/2015</td>\n",
       "      <td>1.4</td>\n",
       "      <td>75</td>\n",
       "    </tr>\n",
       "    <tr>\n",
       "      <th>3</th>\n",
       "      <td>volkswagen</td>\n",
       "      <td>polo</td>\n",
       "      <td>Volkswagen Polo</td>\n",
       "      <td>1.2 CR TDi Black Edition DPF</td>\n",
       "      <td>6700</td>\n",
       "      <td>€ 6 700,-</td>\n",
       "      <td>p</td>\n",
       "      <td>Occasion</td>\n",
       "      <td>b</td>\n",
       "      <td>5361</td>\n",
       "      <td>...</td>\n",
       "      <td>55 kW (75 CH)</td>\n",
       "      <td>Boîte manuelle</td>\n",
       "      <td>d</td>\n",
       "      <td>Diesel</td>\n",
       "      <td>- (l/100 km)</td>\n",
       "      <td>- (g/km)</td>\n",
       "      <td>08-2013</td>\n",
       "      <td>08/2013</td>\n",
       "      <td>1.2</td>\n",
       "      <td>75</td>\n",
       "    </tr>\n",
       "    <tr>\n",
       "      <th>4</th>\n",
       "      <td>volkswagen</td>\n",
       "      <td>polo</td>\n",
       "      <td>Volkswagen Polo</td>\n",
       "      <td>1.4 CR TDi Sportline BMT</td>\n",
       "      <td>8900</td>\n",
       "      <td>€ 8 900,-</td>\n",
       "      <td>p</td>\n",
       "      <td>Occasion</td>\n",
       "      <td>b</td>\n",
       "      <td>6791</td>\n",
       "      <td>...</td>\n",
       "      <td>66 kW (90 CH)</td>\n",
       "      <td>Boîte manuelle</td>\n",
       "      <td>d</td>\n",
       "      <td>Diesel</td>\n",
       "      <td>4 l/100 km</td>\n",
       "      <td>81 g/km (mixte)</td>\n",
       "      <td>08-2016</td>\n",
       "      <td>08/2016</td>\n",
       "      <td>1.4</td>\n",
       "      <td>90</td>\n",
       "    </tr>\n",
       "  </tbody>\n",
       "</table>\n",
       "<p>5 rows × 23 columns</p>\n",
       "</div>"
      ],
      "text/plain": [
       "        Brand Car_type Brandname_and_model                      Model_type  \\\n",
       "0  volkswagen     polo    Volkswagen Polo   1.6 CR TDi Comfortline BMT DPF   \n",
       "1  volkswagen     polo    Volkswagen Polo         1.4 CR TDi Trendline BMT   \n",
       "2  volkswagen     polo    Volkswagen Polo            1.4 CR TDi BlueMotion   \n",
       "3  volkswagen     polo    Volkswagen Polo     1.2 CR TDi Black Edition DPF   \n",
       "4  volkswagen     polo    Volkswagen Polo         1.4 CR TDi Sportline BMT   \n",
       "\n",
       "   Price      Price2 Seller_type Selling_type Listing_country  \\\n",
       "0   3750   € 3 750,-           p     Occasion               b   \n",
       "1   9900   € 9 900,-           p     Occasion               b   \n",
       "2  11499  € 11 499,-           p     Occasion               b   \n",
       "3   6700   € 6 700,-           p     Occasion               b   \n",
       "4   8900   € 8 900,-           p     Occasion               b   \n",
       "\n",
       "  Listing_zip_code  ...          Power    Transmission Fuel_type Fuel_type2  \\\n",
       "0             6470  ...  66 kW (90 CH)  Boîte manuelle         d     Diesel   \n",
       "1             1320  ...  55 kW (75 CH)  Boîte manuelle         d     Diesel   \n",
       "2             6210  ...  55 kW (75 CH)  Boîte manuelle         d     Diesel   \n",
       "3             5361  ...  55 kW (75 CH)  Boîte manuelle         d     Diesel   \n",
       "4             6791  ...  66 kW (90 CH)  Boîte manuelle         d     Diesel   \n",
       "\n",
       "       Fuel_consumption   Fuel_emissions First_registration  \\\n",
       "0  3,7 l/100 km (mixte)  96 g/km (mixte)            03-2010   \n",
       "1          3,8 l/100 km  93 g/km (mixte)            09-2016   \n",
       "2  3,1 l/100 km (mixte)  82 g/km (mixte)            11-2015   \n",
       "3          - (l/100 km)         - (g/km)            08-2013   \n",
       "4            4 l/100 km  81 g/km (mixte)            08-2016   \n",
       "\n",
       "  First_registration2 specific_model Power_CH  \n",
       "0             03/2010            1.6       90  \n",
       "1             09/2016            1.4       75  \n",
       "2             11/2015            1.4       75  \n",
       "3             08/2013            1.2       75  \n",
       "4             08/2016            1.4       90  \n",
       "\n",
       "[5 rows x 23 columns]"
      ]
     },
     "execution_count": 22,
     "metadata": {},
     "output_type": "execute_result"
    }
   ],
   "source": [
    "Used_Car.head()"
   ]
  },
  {
   "cell_type": "markdown",
   "metadata": {},
   "source": [
    "## Plotly\n",
    "\n",
    "Plotly seems to be well-integrated into Streamlit, which will be used in the next part. Hence, it seems better to develop plots in plotly.\n",
    "Plotly is a library that allows you to create interactive plots that you can use in dashboards or websites (you can save them as html files or static images).\n",
    "\n",
    "In order for this all to work, you'll need to install plotly and cufflinks to call plots directly off of a pandas dataframe. "
   ]
  },
  {
   "cell_type": "markdown",
   "metadata": {},
   "source": [
    "### Imports"
   ]
  },
  {
   "cell_type": "code",
   "execution_count": null,
   "metadata": {},
   "outputs": [],
   "source": [
    "#conda install plotly       # in case it's not installed yet"
   ]
  },
  {
   "cell_type": "code",
   "execution_count": 25,
   "metadata": {},
   "outputs": [
    {
     "name": "stdout",
     "output_type": "stream",
     "text": [
      "5.6.0\n"
     ]
    }
   ],
   "source": [
    "from plotly import __version__\n",
    "from plotly.offline import download_plotlyjs, init_notebook_mode, plot, iplot\n",
    "\n",
    "print(__version__) # requires version >= 1.9.0"
   ]
  },
  {
   "cell_type": "code",
   "execution_count": 29,
   "metadata": {},
   "outputs": [
    {
     "name": "stdout",
     "output_type": "stream",
     "text": [
      "Collecting package metadata (current_repodata.json): ...working... done\n",
      "Note: you may need to restart the kernel to use updated packages.\n",
      "Solving environment: ...working... done\n",
      "\n",
      "\n",
      "## Package Plan ##\n",
      "\n",
      "  environment location: c:\\Users\\SW738ZZ\\Anaconda3\n",
      "\n",
      "  added / updated specs:\n",
      "    - python-cufflinks\n",
      "\n",
      "\n",
      "The following packages will be downloaded:\n",
      "\n",
      "    package                    |            build\n",
      "    ---------------------------|-----------------\n",
      "    chart-studio-1.1.0         |     pyh9f0ad1d_0          51 KB  conda-forge\n",
      "    colorlover-0.3.0           |             py_0          12 KB  conda-forge\n",
      "    conda-22.9.0               |   py39hcbf5309_2         985 KB  conda-forge\n",
      "    python-cufflinks-0.17.3    |             py_0          59 KB  conda-forge\n",
      "    python_abi-3.9             |           2_cp39           4 KB  conda-forge\n",
      "    retrying-1.3.3             |             py_2          11 KB  conda-forge\n",
      "    ------------------------------------------------------------\n",
      "                                           Total:         1.1 MB\n",
      "\n",
      "The following NEW packages will be INSTALLED:\n",
      "\n",
      "  chart-studio       conda-forge/noarch::chart-studio-1.1.0-pyh9f0ad1d_0 None\n",
      "  colorlover         conda-forge/noarch::colorlover-0.3.0-py_0 None\n",
      "  python-cufflinks   conda-forge/noarch::python-cufflinks-0.17.3-py_0 None\n",
      "  python_abi         conda-forge/win-64::python_abi-3.9-2_cp39 None\n",
      "  retrying           conda-forge/noarch::retrying-1.3.3-py_2 None\n",
      "\n",
      "The following packages will be UPDATED:\n",
      "\n",
      "  conda              pkgs/main::conda-22.9.0-py39haa95532_0 --> conda-forge::conda-22.9.0-py39hcbf5309_2 None\n",
      "\n",
      "\n",
      "\n",
      "Downloading and Extracting Packages\n",
      "\n",
      "conda-22.9.0         | 985 KB    |            |   0% \n",
      "conda-22.9.0         | 985 KB    | 1          |   2% \n",
      "conda-22.9.0         | 985 KB    | #4         |  15% \n",
      "conda-22.9.0         | 985 KB    | ###        |  31% \n",
      "conda-22.9.0         | 985 KB    | ####       |  41% \n",
      "conda-22.9.0         | 985 KB    | #####      |  50% \n",
      "conda-22.9.0         | 985 KB    | #######7   |  78% \n",
      "conda-22.9.0         | 985 KB    | ########## | 100% \n",
      "conda-22.9.0         | 985 KB    | ########## | 100% \n",
      "\n",
      "retrying-1.3.3       | 11 KB     |            |   0% \n",
      "retrying-1.3.3       | 11 KB     | ########## | 100% \n",
      "retrying-1.3.3       | 11 KB     | ########## | 100% \n",
      "\n",
      "chart-studio-1.1.0   | 51 KB     |            |   0% \n",
      "chart-studio-1.1.0   | 51 KB     | ###1       |  32% \n",
      "chart-studio-1.1.0   | 51 KB     | ########## | 100% \n",
      "chart-studio-1.1.0   | 51 KB     | ########## | 100% \n",
      "\n",
      "python-cufflinks-0.1 | 59 KB     |            |   0% \n",
      "python-cufflinks-0.1 | 59 KB     | ########## | 100% \n",
      "python-cufflinks-0.1 | 59 KB     | ########## | 100% \n",
      "\n",
      "colorlover-0.3.0     | 12 KB     |            |   0% \n",
      "colorlover-0.3.0     | 12 KB     | ########## | 100% \n",
      "colorlover-0.3.0     | 12 KB     | ########## | 100% \n",
      "\n",
      "python_abi-3.9       | 4 KB      |            |   0% \n",
      "python_abi-3.9       | 4 KB      | ########## | 100% \n",
      "python_abi-3.9       | 4 KB      | ########## | 100% \n",
      "Preparing transaction: ...working... done\n",
      "Verifying transaction: ...working... done\n",
      "Executing transaction: ...working... done\n",
      "Retrieving notices: ...working... done\n"
     ]
    }
   ],
   "source": [
    "#conda install -c conda-forge python-cufflinks"
   ]
  },
  {
   "cell_type": "code",
   "execution_count": 30,
   "metadata": {},
   "outputs": [],
   "source": [
    "import cufflinks as cf"
   ]
  },
  {
   "cell_type": "code",
   "execution_count": 27,
   "metadata": {},
   "outputs": [],
   "source": [
    "df = Used_Car # use df when developing, and replace with Used_Car once done"
   ]
  },
  {
   "cell_type": "code",
   "execution_count": 31,
   "metadata": {},
   "outputs": [
    {
     "ename": "KeyError",
     "evalue": "\"None of ['A'] are in the columns\"",
     "output_type": "error",
     "traceback": [
      "\u001b[1;31m---------------------------------------------------------------------------\u001b[0m",
      "\u001b[1;31mKeyError\u001b[0m                                  Traceback (most recent call last)",
      "\u001b[1;32mc:\\Users\\SW738ZZ\\OneDrive - EY\\Documents\\GitHub\\autoscout24\\scraper.ipynb Cell 59\u001b[0m in \u001b[0;36m<cell line: 1>\u001b[1;34m()\u001b[0m\n\u001b[1;32m----> <a href='vscode-notebook-cell:/c%3A/Users/SW738ZZ/OneDrive%20-%20EY/Documents/GitHub/autoscout24/scraper.ipynb#Y151sZmlsZQ%3D%3D?line=0'>1</a>\u001b[0m df\u001b[39m.\u001b[39;49miplot(kind\u001b[39m=\u001b[39;49m\u001b[39m'\u001b[39;49m\u001b[39mscatter\u001b[39;49m\u001b[39m'\u001b[39;49m,x\u001b[39m=\u001b[39;49m\u001b[39m'\u001b[39;49m\u001b[39mA\u001b[39;49m\u001b[39m'\u001b[39;49m,y\u001b[39m=\u001b[39;49m\u001b[39m'\u001b[39;49m\u001b[39mB\u001b[39;49m\u001b[39m'\u001b[39;49m,mode\u001b[39m=\u001b[39;49m\u001b[39m'\u001b[39;49m\u001b[39mmarkers\u001b[39;49m\u001b[39m'\u001b[39;49m,size\u001b[39m=\u001b[39;49m\u001b[39m10\u001b[39;49m)\n",
      "File \u001b[1;32mc:\\Users\\SW738ZZ\\Anaconda3\\lib\\site-packages\\cufflinks\\plotlytools.py:826\u001b[0m, in \u001b[0;36m_iplot\u001b[1;34m(self, kind, data, layout, filename, sharing, title, xTitle, yTitle, zTitle, theme, colors, colorscale, fill, width, dash, mode, interpolation, symbol, size, barmode, sortbars, bargap, bargroupgap, bins, histnorm, histfunc, orientation, boxpoints, annotations, keys, bestfit, bestfit_colors, mean, mean_colors, categories, x, y, z, text, gridcolor, zerolinecolor, margin, labels, values, secondary_y, secondary_y_title, subplots, shape, error_x, error_y, error_type, locations, lon, lat, asFrame, asDates, asFigure, asImage, dimensions, asPlot, asUrl, online, **kwargs)\u001b[0m\n\u001b[0;32m    824\u001b[0m \tdf\u001b[39m=\u001b[39mpd\u001b[39m.\u001b[39mDataFrame({df\u001b[39m.\u001b[39mname:df})\n\u001b[0;32m    825\u001b[0m \u001b[39mif\u001b[39;00m x:\n\u001b[1;32m--> 826\u001b[0m \tdf\u001b[39m=\u001b[39mdf\u001b[39m.\u001b[39;49mset_index(x)\n\u001b[0;32m    827\u001b[0m \u001b[39mif\u001b[39;00m y \u001b[39mand\u001b[39;00m secondary_y:\n\u001b[0;32m    828\u001b[0m \t_y \u001b[39m=\u001b[39m [y] \u001b[39mif\u001b[39;00m \u001b[39mnot\u001b[39;00m \u001b[39misinstance\u001b[39m(y, \u001b[39mlist\u001b[39m) \u001b[39melse\u001b[39;00m y\n",
      "File \u001b[1;32mc:\\Users\\SW738ZZ\\Anaconda3\\lib\\site-packages\\pandas\\util\\_decorators.py:311\u001b[0m, in \u001b[0;36mdeprecate_nonkeyword_arguments.<locals>.decorate.<locals>.wrapper\u001b[1;34m(*args, **kwargs)\u001b[0m\n\u001b[0;32m    305\u001b[0m \u001b[39mif\u001b[39;00m \u001b[39mlen\u001b[39m(args) \u001b[39m>\u001b[39m num_allow_args:\n\u001b[0;32m    306\u001b[0m     warnings\u001b[39m.\u001b[39mwarn(\n\u001b[0;32m    307\u001b[0m         msg\u001b[39m.\u001b[39mformat(arguments\u001b[39m=\u001b[39marguments),\n\u001b[0;32m    308\u001b[0m         \u001b[39mFutureWarning\u001b[39;00m,\n\u001b[0;32m    309\u001b[0m         stacklevel\u001b[39m=\u001b[39mstacklevel,\n\u001b[0;32m    310\u001b[0m     )\n\u001b[1;32m--> 311\u001b[0m \u001b[39mreturn\u001b[39;00m func(\u001b[39m*\u001b[39margs, \u001b[39m*\u001b[39m\u001b[39m*\u001b[39mkwargs)\n",
      "File \u001b[1;32mc:\\Users\\SW738ZZ\\Anaconda3\\lib\\site-packages\\pandas\\core\\frame.py:5494\u001b[0m, in \u001b[0;36mDataFrame.set_index\u001b[1;34m(self, keys, drop, append, inplace, verify_integrity)\u001b[0m\n\u001b[0;32m   5491\u001b[0m                 missing\u001b[39m.\u001b[39mappend(col)\n\u001b[0;32m   5493\u001b[0m \u001b[39mif\u001b[39;00m missing:\n\u001b[1;32m-> 5494\u001b[0m     \u001b[39mraise\u001b[39;00m \u001b[39mKeyError\u001b[39;00m(\u001b[39mf\u001b[39m\u001b[39m\"\u001b[39m\u001b[39mNone of \u001b[39m\u001b[39m{\u001b[39;00mmissing\u001b[39m}\u001b[39;00m\u001b[39m are in the columns\u001b[39m\u001b[39m\"\u001b[39m)\n\u001b[0;32m   5496\u001b[0m \u001b[39mif\u001b[39;00m inplace:\n\u001b[0;32m   5497\u001b[0m     frame \u001b[39m=\u001b[39m \u001b[39mself\u001b[39m\n",
      "\u001b[1;31mKeyError\u001b[0m: \"None of ['A'] are in the columns\""
     ]
    }
   ],
   "source": [
    "\n",
    "df.iplot(kind='scatter',x='A',y='B',mode='markers',size=10)"
   ]
  },
  {
   "cell_type": "markdown",
   "metadata": {},
   "source": [
    "# Streamlit\n",
    "\n",
    "Add a button for the link (e.g. link0=\"...\")  \n",
    "Add a button for ('Scrape me now')  \n",
    "First page: Display Dataframe  \n",
    "Second page: display plots/dashboard  \n",
    "Add interactive plots (Plotly seems to be the go-to option)\n"
   ]
  },
  {
   "cell_type": "code",
   "execution_count": null,
   "metadata": {},
   "outputs": [],
   "source": []
  },
  {
   "cell_type": "code",
   "execution_count": null,
   "metadata": {},
   "outputs": [],
   "source": []
  },
  {
   "cell_type": "code",
   "execution_count": null,
   "metadata": {},
   "outputs": [],
   "source": []
  },
  {
   "cell_type": "code",
   "execution_count": null,
   "metadata": {},
   "outputs": [],
   "source": []
  },
  {
   "cell_type": "code",
   "execution_count": null,
   "metadata": {},
   "outputs": [],
   "source": []
  },
  {
   "cell_type": "code",
   "execution_count": null,
   "metadata": {},
   "outputs": [],
   "source": []
  },
  {
   "cell_type": "code",
   "execution_count": 159,
   "metadata": {},
   "outputs": [
    {
     "data": {
      "text/plain": [
       "30"
      ]
     },
     "execution_count": 159,
     "metadata": {},
     "output_type": "execute_result"
    }
   ],
   "source": [
    "len(Brand)"
   ]
  },
  {
   "cell_type": "code",
   "execution_count": 160,
   "metadata": {},
   "outputs": [],
   "source": [
    "def check_length(input_list):\n",
    "    return print(f\"name: {input_list}, length: {len(input_list)}\")"
   ]
  },
  {
   "cell_type": "code",
   "execution_count": 166,
   "metadata": {},
   "outputs": [
    {
     "name": "stdout",
     "output_type": "stream",
     "text": [
      "name: ['volkswagen', 'volkswagen', 'volkswagen', 'volkswagen', 'volkswagen', 'volkswagen', 'volkswagen', 'volkswagen', 'volkswagen', 'volkswagen', 'volkswagen', 'volkswagen', 'volkswagen', 'volkswagen', 'volkswagen', 'volkswagen', 'volkswagen', 'volkswagen', 'volkswagen', 'volkswagen', 'volkswagen', 'volkswagen', 'volkswagen', 'volkswagen', 'volkswagen', 'volkswagen', 'volkswagen', 'volkswagen', 'volkswagen', 'volkswagen'], length: 30\n",
      "name: ['polo', 'polo', 'polo', 'polo', 'polo', 'polo', 'polo', 'polo', 'polo', 'polo', 'polo', 'polo', 'polo', 'polo', 'polo', 'polo', 'polo', 'polo', 'polo', 'polo', 'polo', 'polo', 'polo', 'polo', 'polo', 'polo', 'polo', 'polo', 'polo', 'polo'], length: 30\n",
      "name: ['Volkswagen Polo\\xa0', 'Volkswagen Polo\\xa0', 'Volkswagen Polo\\xa0', 'Volkswagen Polo\\xa0', 'Volkswagen Polo\\xa0', 'Volkswagen Polo\\xa0', 'Volkswagen Polo\\xa0', 'Volkswagen Polo\\xa0', 'Volkswagen Polo\\xa0', 'Volkswagen Polo\\xa0', 'Volkswagen Polo\\xa0', 'Volkswagen Polo\\xa0', 'Volkswagen Polo\\xa0', 'Volkswagen Polo\\xa0', 'Volkswagen Polo\\xa0', 'Volkswagen Polo\\xa0', 'Volkswagen Polo\\xa0', 'Volkswagen Polo\\xa0', 'Volkswagen Polo\\xa0', 'Volkswagen Polo\\xa0', 'Volkswagen Polo\\xa0', 'Volkswagen Polo\\xa0', 'Volkswagen Polo\\xa0', 'Volkswagen Polo\\xa0', 'Volkswagen Polo\\xa0', 'Volkswagen Polo\\xa0', 'Volkswagen Polo\\xa0', 'Volkswagen Polo\\xa0', 'Volkswagen Polo\\xa0', 'Volkswagen Polo\\xa0'], length: 30\n",
      "name: ['1.2 CR TDi Black Edition DPF', '1.4 CR TDi Sportline BMT', '1.4 CR TDi Trendline', '1.6 CR TDi Comfortline BMT DPF', 'VW POLO 6R 1.6TDI', '1.2 CR TDi BlueMotion DPF 89g', '1.6 CR TDi Comfortline BMT DPF', '1.2 CR TDi Trendline DPF', '1.2 CR TDi Trendline DPF', '1.2 CR TDi BlueMotion DPF 89g', '1.2 CR TDi Comfortline DPF', '1.4 CR TDi Comfortline BMT', 'VW Polo | 1.2 TDI BM | Euro 5 | 100% score kvv', '1.4 TDi United', '1.6 CR TDi Comfortline BMT DPF', '1.2 CR TDi Comfortline DPF', '1.6 CR TDi Comfortline BMT DPF', '1.2 CR TDi Trendline DPF', '1.4 TDI (Blue Motion Technology) Highline', '1.6 CR TDi Black Edition BMT DPF', '', '1.2 CR TDi BlueMotion DPF 89g', '1.2 CR TDi Highline DPF', '1.2 CR TDi', '1.2 CR TDi BlueMotion DPF 89g', '1.4 Tdi', 'CR TDi Comfortline DPF', '1.4 CR TDi Trendline', '1.6 CR TDi Comfortline DPF', '1.4 CR TDi Comfortline BMT'], length: 30\n",
      "name: ['6700', '8900', '11500', '9995', '5199', '8500', '3950', '5600', '6900', '6500', '6500', '8300', '5250', '6999', '4300', '6250', '3500', '6999', '9500', '7500', '9500', '6200', '3900', '5350', '6500', '9000', '5300', '10700', '6000', '6999'], length: 30\n",
      "name: ['€ 6\\u202f700,-', '€ 8\\u202f900,-', '€ 11\\u202f500,-', '€ 9\\u202f995,-', '€ 5\\u202f199,-', '€ 8\\u202f500,-', '€ 3\\u202f950,-', '€ 5\\u202f600,-', '€ 6\\u202f900,-', '€ 6\\u202f500,-', '€ 6\\u202f500,-', '€ 8\\u202f300,-', '€ 5\\u202f250,-', '€ 6\\u202f999,-', '€ 4\\u202f300,-', '€ 6\\u202f250,-', '€ 3\\u202f500,-', '€ 6\\u202f999,-', '€ 9\\u202f500,-', '€ 7\\u202f500,-', '€ 9\\u202f500,-', '€ 6\\u202f200,-', '€ 3\\u202f900,-', '€ 5\\u202f350,-', '€ 6\\u202f500,-', '€ 9\\u202f000,-', '€ 5\\u202f300,-', '€ 10\\u202f700,-', '€ 6\\u202f000,-', '€ 6\\u202f999,-'], length: 30\n",
      "name: ['p', 'p', 'p', 'p', 'p', 'p', 'p', 'p', 'p', 'p', 'p', 'p', 'p', 'p', 'p', 'p', 'p', 'p', 'p', 'p', 'p', 'p', 'p', 'p', 'p', 'p', 'p', 'p', 'p', 'p'], length: 30\n",
      "name: ['Occasion', 'Occasion', 'Occasion', 'Occasion', 'Occasion', 'Occasion', 'Occasion', 'Occasion', 'Occasion', 'Occasion', 'Occasion', 'Occasion', 'Occasion', 'Occasion', 'Occasion', 'Occasion', 'Occasion', 'Occasion', 'Occasion', 'Occasion', 'Occasion', 'Occasion', 'Occasion', 'Occasion', 'Occasion', 'Occasion', 'Occasion', 'Occasion', 'Occasion', 'Occasion'], length: 30\n",
      "name: ['b', 'b', 'b', 'b', 'b', 'b', 'b', 'b', 'b', 'b', 'b', 'b', 'b', 'b', 'b', 'b', 'b', 'b', 'b', 'b', 'b', 'b', 'b', 'b', 'b', 'b', 'b', 'b', 'b', 'b'], length: 30\n",
      "name: ['5361', '6791', '6927', '3001', '4020', '1190', '6470', '1000', '6230', '9040', '1730', '6120', '2340', '3740', '1080', '1850', '7330', '4420', '9700', '4000', '4020', '4500', '1070', '4040', '1190', '8582', '1030', '4840', '4020', '1800'], length: 30\n",
      "name: ['2 Propriétaires préc.', '1 Propriétaires préc.', '2 Propriétaires préc.', '- (Propriétaires préc.)', '1 Propriétaires préc.', '- (Propriétaires préc.)', '- (Propriétaires préc.)', '- (Propriétaires préc.)', '1 Propriétaires préc.', '1 Propriétaires préc.', '- (Propriétaires préc.)', '- (Propriétaires préc.)', '- (Propriétaires préc.)', '1 Propriétaires préc.', '1 Propriétaires préc.', '1 Propriétaires préc.', '2 Propriétaires préc.', '- (Propriétaires préc.)', '- (Propriétaires préc.)', '1 Propriétaires préc.', '2 Propriétaires préc.', '- (Propriétaires préc.)', '- (Propriétaires préc.)', '- (Propriétaires préc.)', '- (Propriétaires préc.)', '- (Propriétaires préc.)', '- (Propriétaires préc.)', '1 Propriétaires préc.', '- (Propriétaires préc.)', '1 Propriétaires préc.'], length: 30\n",
      "name: ['132997', '130000', '103000', '99000', '206000', '69900', '233340', '145000', '138000', '112273', '105000', '148750', '199000', '101532', '200300', '127410', '252000', '139000', '85000', '143652', '148600', '165000', '225000', '189000', '66000', '107000', '184717', '60981', '167000', '200000'], length: 30\n",
      "name: ['132\\u202f997 km', '130\\u202f000 km', '103\\u202f000 km', '99\\u202f000 km', '206\\u202f000 km', '69\\u202f900 km', '233\\u202f340 km', '145\\u202f000 km', '138\\u202f000 km', '112\\u202f273 km', '105\\u202f000 km', '148\\u202f750 km', '199\\u202f000 km', '101\\u202f532 km', '200\\u202f300 km', '127\\u202f410 km', '252\\u202f000 km', '139\\u202f000 km', '85\\u202f000 km', '143\\u202f652 km', '148\\u202f600 km', '165\\u202f000 km', '225\\u202f000 km', '189\\u202f000 km', '66\\u202f000 km', '107\\u202f000 km', '184\\u202f717 km', '60\\u202f981 km', '167\\u202f000 km', '200\\u202f000 km'], length: 30\n",
      "name: ['55 kW (75 CH)', '66 kW (90 CH)', '55 kW (75 CH)', '66 kW (90 CH)', '66 kW (90 CH)', '55 kW (75 CH)', '66 kW (90 CH)', '55 kW (75 CH)', '55 kW (75 CH)', '55 kW (75 CH)', '55 kW (75 CH)', '66 kW (90 CH)', '55 kW (75 CH)', '51 kW (69 CH)', '66 kW (90 CH)', '55 kW (75 CH)', '66 kW (90 CH)', '55 kW (75 CH)', '66 kW (90 CH)', '66 kW (90 CH)', '66 kW (90 CH)', '55 kW (75 CH)', '55 kW (75 CH)', '55 kW (75 CH)', '55 kW (75 CH)', '55 kW (75 CH)', '66 kW (90 CH)', '55 kW (75 CH)', '55 kW (75 CH)', '55 kW (75 CH)'], length: 30\n",
      "name: ['Boîte manuelle', 'Boîte manuelle', 'Boîte manuelle', 'Boîte manuelle', 'Boîte manuelle', 'Boîte manuelle', 'Boîte manuelle', 'Boîte manuelle', 'Boîte manuelle', 'Boîte manuelle', 'Boîte manuelle', 'Boîte manuelle', 'Boîte manuelle', 'Boîte manuelle', 'Boîte manuelle', 'Boîte manuelle', 'Boîte manuelle', 'Boîte manuelle', 'Boîte manuelle', 'Boîte manuelle', 'Boîte manuelle', 'Boîte manuelle', 'Boîte manuelle', 'Boîte manuelle', 'Boîte manuelle', 'Boîte manuelle', 'Boîte manuelle', 'Boîte manuelle', 'Boîte manuelle', 'Boîte manuelle'], length: 30\n",
      "name: ['d', 'd', 'd', 'd', 'd', 'd', 'd', 'd', 'd', 'd', 'd', 'd', 'd', 'd', 'd', 'd', 'd', 'd', 'd', 'd', 'd', 'd', 'd', 'd', 'd', 'd', 'd', 'd', 'd', 'd'], length: 30\n",
      "name: ['Diesel', 'Diesel', 'Diesel', 'Diesel', 'Diesel', 'Diesel', 'Diesel', 'Diesel', 'Diesel', 'Diesel', 'Diesel', 'Diesel', 'Diesel', 'Diesel', 'Diesel', 'Diesel', 'Diesel', 'Diesel', 'Diesel', 'Diesel', 'Diesel', 'Diesel', 'Diesel', 'Diesel', 'Diesel', 'Diesel', 'Diesel', 'Diesel', 'Diesel', 'Diesel'], length: 30\n",
      "name: ['- (l/100 km)', '4 l/100 km', '', '3,7 l/100 km (mixte)', '5 l/100 km (mixte)', '3,4 l/100 km (mixte)', '3,7 l/100 km (mixte)', '3,8 l/100 km (mixte)', '3,8 l/100 km (mixte)', '3,4 l/100 km (mixte)', '3,8 l/100 km (mixte)', '3,4 l/100 km (mixte)', '3,4 l/100 km (mixte)', '4,5 l/100 km (mixte)', '3,7 l/100 km (mixte)', '3,8 l/100 km (mixte)', '3,7 l/100 km (mixte)', '3,8 l/100 km (mixte)', '3,4 l/100 km (mixte)', '3,7 l/100 km (mixte)', '- (l/100 km)', '3,4 l/100 km (mixte)', '3,8 l/100 km (mixte)', '3,8 l/100 km (mixte)', '3,4 l/100 km (mixte)', '4,5 l/100 km (mixte)', '4,2 l/100 km (mixte)', '3,8 l/100 km (mixte)', '4,2 l/100 km (mixte)', '3,4 l/100 km (mixte)'], length: 30\n",
      "name: ['- (g/km)', '81 g/km (mixte)', '99 g/km (mixte)', '96 g/km (mixte)', '- (g/km)', '89 g/km (mixte)', '96 g/km (mixte)', '99 g/km (mixte)', '99 g/km (mixte)', '89 g/km (mixte)', '99 g/km (mixte)', '88 g/km (mixte)', '89 g/km (mixte)', '119 g/km (mixte)', '96 g/km (mixte)', '99 g/km (mixte)', '96 g/km (mixte)', '99 g/km (mixte)', '88 g/km (mixte)', '96 g/km (mixte)', '88 g/km (mixte)', '89 g/km (mixte)', '- (g/km)', '- (g/km)', '89 g/km (mixte)', '- (g/km)', '- (g/km)', '99 g/km (mixte)', '109 g/km (mixte)', '88 g/km (mixte)'], length: 30\n",
      "name: ['08-2013', '08/2013', '08-2016', '08/2016', '08-2016', '08/2016', '05-2014', '05/2014', '09-2012', '09/2012', '10-2011', '10/2011', '03-2010', '03/2010', '06-2011', '06/2011', '07-2013', '07/2013', '06-2011', '06/2011', '04-2011', '04/2011', '10-2014', '10/2014', '10-2010', '10/2010', '06-2009', '06/2009', '12-2011', '12/2011', '08-2011', '08/2011', '01-2010', '01/2010', '05-2012', '05/2012', '01-2015', '01/2015', '05-2012', '05/2012', '01-2017', '01/2017', '04-2011', '04/2011', '02-2012', '02/2012', '12-2011', '12/2011', '10-2011', '10/2011', '02-2016', '02/2016', '11-2010', '11/2010', '12-2015', '12/2015', '01-2011', '01/2011', '08-2014', '08/2014'], length: 60\n",
      "name: [], length: 0\n"
     ]
    }
   ],
   "source": [
    "check_length(Brand)\n",
    "check_length(Car_type)\n",
    "check_length(Brandname_and_model)\n",
    "check_length(Model_type)\n",
    "check_length(Price)\n",
    "check_length(Price2)\n",
    "check_length(Seller_type)\n",
    "check_length(Selling_type)\n",
    "check_length(Listing_country)\n",
    "check_length(Listing_zip_code)\n",
    "check_length(Nb_previous_owners)\n",
    "\n",
    "check_length(Mileage)\n",
    "check_length(Mileage2)\n",
    "check_length(Power)\n",
    "check_length(Transmission)\n",
    "\n",
    "check_length(Fuel_type)\n",
    "check_length(Fuel_type2)\n",
    "check_length(Fuel_consumption)\n",
    "check_length(Fuel_emissions)\n",
    "\n",
    "check_length(First_registration)\n",
    "check_length(First_registration2)"
   ]
  },
  {
   "cell_type": "code",
   "execution_count": null,
   "metadata": {},
   "outputs": [],
   "source": []
  },
  {
   "cell_type": "code",
   "execution_count": null,
   "metadata": {},
   "outputs": [],
   "source": []
  },
  {
   "cell_type": "code",
   "execution_count": 30,
   "metadata": {},
   "outputs": [
    {
     "data": {
      "text/plain": [
       "array([1, 2])"
      ]
     },
     "execution_count": 30,
     "metadata": {},
     "output_type": "execute_result"
    }
   ],
   "source": [
    "pages"
   ]
  },
  {
   "cell_type": "code",
   "execution_count": 37,
   "metadata": {},
   "outputs": [],
   "source": [
    "link0 = 'https://www.autoscout24.be/fr/lst/volkswagen/polo/ot_occasion?offer=U&sort=age&desc=1&cy=B&atype=C&ustate=N%2CU&eq=49&fuel=D&powertype=hp&powerfrom=44&powerto=66&gear=M&emclass=5&custtype=P&search_id=x7v89zk0z9'\n",
    "\n",
    "page=1\n",
    "url = requests.get(str(link0)+'&page='+str(page))\n",
    "soup = BeautifulSoup(url.text, 'html.parser')"
   ]
  },
  {
   "cell_type": "code",
   "execution_count": 58,
   "metadata": {},
   "outputs": [],
   "source": [
    "#soup"
   ]
  },
  {
   "cell_type": "code",
   "execution_count": 55,
   "metadata": {},
   "outputs": [],
   "source": [
    "car_div = soup.find_all(\"article\", class_=\"cldt-summary-full-item\") "
   ]
  },
  {
   "cell_type": "code",
   "execution_count": null,
   "metadata": {},
   "outputs": [],
   "source": []
  },
  {
   "cell_type": "code",
   "execution_count": 61,
   "metadata": {},
   "outputs": [
    {
     "ename": "AttributeError",
     "evalue": "'NoneType' object has no attribute 'find'",
     "output_type": "error",
     "traceback": [
      "\u001b[0;31m---------------------------------------------------------------------------\u001b[0m",
      "\u001b[0;31mAttributeError\u001b[0m                            Traceback (most recent call last)",
      "Cell \u001b[0;32mIn [61], line 3\u001b[0m\n\u001b[1;32m      1\u001b[0m \u001b[39m#car_div[0] #works fine\u001b[39;00m\n\u001b[0;32m----> 3\u001b[0m title \u001b[39m=\u001b[39m car_div[\u001b[39m0\u001b[39;49m]\u001b[39m.\u001b[39;49mdiv\u001b[39m.\u001b[39;49ma\u001b[39m.\u001b[39;49mdiv\u001b[39m.\u001b[39;49mfind(\u001b[39m'\u001b[39m\u001b[39mh2\u001b[39m\u001b[39m'\u001b[39m, class_\u001b[39m=\u001b[39m\u001b[39m'\u001b[39m\u001b[39mcldt-summary-makemodel sc-font-bold sc-ellipsis\u001b[39m\u001b[39m'\u001b[39m)\u001b[39m.\u001b[39mtext\n",
      "\u001b[0;31mAttributeError\u001b[0m: 'NoneType' object has no attribute 'find'"
     ]
    }
   ],
   "source": [
    "#car_div[0] #works fine\n",
    "\n",
    "title = car_div[0].div.a.div.find('h2', class_='cldt-summary-makemodel sc-font-bold sc-ellipsis').text\n",
    "\n",
    "# --> need to re-edit all the\n",
    "\n",
    "\n",
    "\n",
    "\n",
    "#for car_advertisement in car_div:\n",
    "    "
   ]
  },
  {
   "cell_type": "code",
   "execution_count": null,
   "metadata": {},
   "outputs": [],
   "source": []
  },
  {
   "cell_type": "code",
   "execution_count": null,
   "metadata": {},
   "outputs": [],
   "source": []
  },
  {
   "cell_type": "code",
   "execution_count": null,
   "metadata": {},
   "outputs": [],
   "source": []
  },
  {
   "cell_type": "code",
   "execution_count": null,
   "metadata": {},
   "outputs": [],
   "source": [
    "# DRAFT\n",
    "\n",
    "pages = np.arange(1,21,1)                   # --> (1,2,3,…,20)\n",
    "km_range = np.arange(20000,310000,10000)    #--> (20000,30000, 40000 ,…, 290000,300000)\n",
    "\n",
    "# body:1 -> Compact\n",
    "# # body:5 -> Stationwagon\n",
    "# body:6 -> Sedan\n",
    "\n",
    "body_range = np.array([1,5,6])\n",
    "\n",
    "#(Emission Label) env_range = np.arange(2,5,1)"
   ]
  },
  {
   "cell_type": "code",
   "execution_count": null,
   "metadata": {},
   "outputs": [],
   "source": [
    "# https://www.autoscout24.com/lst/\n",
    "# ?sort=mileage&desc=0&custtype=P&ensticker=2&offer=J%2CU%2CO%2CD&ustate=N%2CU&size=20\n",
    "# &page=1\n",
    "# &pricefrom=500&kmto=20000&kmfrom=10001\n",
    "# &body=1\n",
    "# &atype=C&\n",
    "\n",
    "\n",
    "# Look into the html (inspect)\n",
    "link0 = 'https://www.autoscout24.com/lst/?sort=mileage&desc=0&custtype=P&ensticker='\n",
    "\n",
    "for body_r in body_range:           # filter on type of car: compact,suv, coupe, berline,...\n",
    "    for env_r in env_range:         # filter on environmental norms\n",
    "        for km_r in km_range:       # filter on km range\n",
    "            for page in pages:      # iterate over each search page\n",
    "                url = requests.get(str(link0)+str(env_r)+'&offer=J%2CU%2CO%2CD&ustate=N%2CU&size=20&page='+str(page)+'&pricefrom=500&kmto='+str(km_r)+'&kmfrom='+str(km_r-9999)+'&body='+str(body_r)+'&atype=C&')"
   ]
  }
 ],
 "metadata": {
  "kernelspec": {
   "display_name": "Python 3.9.12 ('base')",
   "language": "python",
   "name": "python3"
  },
  "language_info": {
   "codemirror_mode": {
    "name": "ipython",
    "version": 3
   },
   "file_extension": ".py",
   "mimetype": "text/x-python",
   "name": "python",
   "nbconvert_exporter": "python",
   "pygments_lexer": "ipython3",
   "version": "3.9.12"
  },
  "orig_nbformat": 4,
  "vscode": {
   "interpreter": {
    "hash": "d1e93ed42e06a1103ec15de1427d3879c75ba670ffe034607ea3039697908188"
   }
  }
 },
 "nbformat": 4,
 "nbformat_minor": 2
}
