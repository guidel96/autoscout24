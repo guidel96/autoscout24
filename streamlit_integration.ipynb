{
 "cells": [
  {
   "cell_type": "code",
   "execution_count": 2,
   "metadata": {},
   "outputs": [],
   "source": [
    "import pandas as pd\n",
    "import numpy as np"
   ]
  },
  {
   "cell_type": "markdown",
   "metadata": {},
   "source": [
    "# Import File\n",
    "Import the output of the previous steps."
   ]
  },
  {
   "cell_type": "code",
   "execution_count": 3,
   "metadata": {},
   "outputs": [],
   "source": [
    "df = pd.read_csv('./Used_cars.csv')"
   ]
  },
  {
   "cell_type": "code",
   "execution_count": 4,
   "metadata": {},
   "outputs": [
    {
     "data": {
      "text/html": [
       "<div>\n",
       "<style scoped>\n",
       "    .dataframe tbody tr th:only-of-type {\n",
       "        vertical-align: middle;\n",
       "    }\n",
       "\n",
       "    .dataframe tbody tr th {\n",
       "        vertical-align: top;\n",
       "    }\n",
       "\n",
       "    .dataframe thead th {\n",
       "        text-align: right;\n",
       "    }\n",
       "</style>\n",
       "<table border=\"1\" class=\"dataframe\">\n",
       "  <thead>\n",
       "    <tr style=\"text-align: right;\">\n",
       "      <th></th>\n",
       "      <th>Unnamed: 0</th>\n",
       "      <th>Brand</th>\n",
       "      <th>Car_type</th>\n",
       "      <th>Brandname_and_model</th>\n",
       "      <th>Model_type</th>\n",
       "      <th>Price</th>\n",
       "      <th>Price2</th>\n",
       "      <th>Seller_type</th>\n",
       "      <th>Selling_type</th>\n",
       "      <th>Listing_country</th>\n",
       "      <th>...</th>\n",
       "      <th>Power</th>\n",
       "      <th>Transmission</th>\n",
       "      <th>Fuel_type</th>\n",
       "      <th>Fuel_type2</th>\n",
       "      <th>Fuel_consumption</th>\n",
       "      <th>Fuel_emissions</th>\n",
       "      <th>First_registration</th>\n",
       "      <th>First_registration2</th>\n",
       "      <th>specific_model</th>\n",
       "      <th>Power_CH</th>\n",
       "    </tr>\n",
       "  </thead>\n",
       "  <tbody>\n",
       "    <tr>\n",
       "      <th>0</th>\n",
       "      <td>0</td>\n",
       "      <td>volkswagen</td>\n",
       "      <td>polo</td>\n",
       "      <td>Volkswagen Polo</td>\n",
       "      <td>1.6 CR TDi Comfortline BMT DPF</td>\n",
       "      <td>3750</td>\n",
       "      <td>€ 3 750,-</td>\n",
       "      <td>p</td>\n",
       "      <td>Occasion</td>\n",
       "      <td>b</td>\n",
       "      <td>...</td>\n",
       "      <td>66 kW (90 CH)</td>\n",
       "      <td>Boîte manuelle</td>\n",
       "      <td>d</td>\n",
       "      <td>Diesel</td>\n",
       "      <td>3,7 l/100 km (mixte)</td>\n",
       "      <td>96 g/km (mixte)</td>\n",
       "      <td>03-2010</td>\n",
       "      <td>03/2010</td>\n",
       "      <td>1.6</td>\n",
       "      <td>90</td>\n",
       "    </tr>\n",
       "    <tr>\n",
       "      <th>1</th>\n",
       "      <td>1</td>\n",
       "      <td>volkswagen</td>\n",
       "      <td>polo</td>\n",
       "      <td>Volkswagen Polo</td>\n",
       "      <td>1.4 CR TDi Trendline BMT</td>\n",
       "      <td>9900</td>\n",
       "      <td>€ 9 900,-</td>\n",
       "      <td>p</td>\n",
       "      <td>Occasion</td>\n",
       "      <td>b</td>\n",
       "      <td>...</td>\n",
       "      <td>55 kW (75 CH)</td>\n",
       "      <td>Boîte manuelle</td>\n",
       "      <td>d</td>\n",
       "      <td>Diesel</td>\n",
       "      <td>3,8 l/100 km</td>\n",
       "      <td>93 g/km (mixte)</td>\n",
       "      <td>09-2016</td>\n",
       "      <td>09/2016</td>\n",
       "      <td>1.4</td>\n",
       "      <td>75</td>\n",
       "    </tr>\n",
       "    <tr>\n",
       "      <th>2</th>\n",
       "      <td>2</td>\n",
       "      <td>volkswagen</td>\n",
       "      <td>polo</td>\n",
       "      <td>Volkswagen Polo</td>\n",
       "      <td>1.4 CR TDi BlueMotion</td>\n",
       "      <td>11499</td>\n",
       "      <td>€ 11 499,-</td>\n",
       "      <td>p</td>\n",
       "      <td>Occasion</td>\n",
       "      <td>b</td>\n",
       "      <td>...</td>\n",
       "      <td>55 kW (75 CH)</td>\n",
       "      <td>Boîte manuelle</td>\n",
       "      <td>d</td>\n",
       "      <td>Diesel</td>\n",
       "      <td>3,1 l/100 km (mixte)</td>\n",
       "      <td>82 g/km (mixte)</td>\n",
       "      <td>11-2015</td>\n",
       "      <td>11/2015</td>\n",
       "      <td>1.4</td>\n",
       "      <td>75</td>\n",
       "    </tr>\n",
       "  </tbody>\n",
       "</table>\n",
       "<p>3 rows × 24 columns</p>\n",
       "</div>"
      ],
      "text/plain": [
       "   Unnamed: 0       Brand Car_type Brandname_and_model  \\\n",
       "0           0  volkswagen     polo    Volkswagen Polo    \n",
       "1           1  volkswagen     polo    Volkswagen Polo    \n",
       "2           2  volkswagen     polo    Volkswagen Polo    \n",
       "\n",
       "                       Model_type  Price      Price2 Seller_type Selling_type  \\\n",
       "0  1.6 CR TDi Comfortline BMT DPF   3750   € 3 750,-           p     Occasion   \n",
       "1        1.4 CR TDi Trendline BMT   9900   € 9 900,-           p     Occasion   \n",
       "2           1.4 CR TDi BlueMotion  11499  € 11 499,-           p     Occasion   \n",
       "\n",
       "  Listing_country  ...          Power    Transmission  Fuel_type Fuel_type2  \\\n",
       "0               b  ...  66 kW (90 CH)  Boîte manuelle          d     Diesel   \n",
       "1               b  ...  55 kW (75 CH)  Boîte manuelle          d     Diesel   \n",
       "2               b  ...  55 kW (75 CH)  Boîte manuelle          d     Diesel   \n",
       "\n",
       "       Fuel_consumption   Fuel_emissions First_registration  \\\n",
       "0  3,7 l/100 km (mixte)  96 g/km (mixte)            03-2010   \n",
       "1          3,8 l/100 km  93 g/km (mixte)            09-2016   \n",
       "2  3,1 l/100 km (mixte)  82 g/km (mixte)            11-2015   \n",
       "\n",
       "  First_registration2 specific_model Power_CH  \n",
       "0             03/2010            1.6       90  \n",
       "1             09/2016            1.4       75  \n",
       "2             11/2015            1.4       75  \n",
       "\n",
       "[3 rows x 24 columns]"
      ]
     },
     "execution_count": 4,
     "metadata": {},
     "output_type": "execute_result"
    }
   ],
   "source": [
    "df.head(3)"
   ]
  },
  {
   "cell_type": "code",
   "execution_count": 5,
   "metadata": {},
   "outputs": [
    {
     "data": {
      "text/plain": [
       "Index(['Unnamed: 0', 'Brand', 'Car_type', 'Brandname_and_model', 'Model_type',\n",
       "       'Price', 'Price2', 'Seller_type', 'Selling_type', 'Listing_country',\n",
       "       'Listing_zip_code', 'Nb_previous_owners', 'Mileage', 'Mileage2',\n",
       "       'Power', 'Transmission', 'Fuel_type', 'Fuel_type2', 'Fuel_consumption',\n",
       "       'Fuel_emissions', 'First_registration', 'First_registration2',\n",
       "       'specific_model', 'Power_CH'],\n",
       "      dtype='object')"
      ]
     },
     "execution_count": 5,
     "metadata": {},
     "output_type": "execute_result"
    }
   ],
   "source": [
    "df.columns"
   ]
  },
  {
   "cell_type": "code",
   "execution_count": 6,
   "metadata": {},
   "outputs": [
    {
     "name": "stdout",
     "output_type": "stream",
     "text": [
      "<class 'pandas.core.frame.DataFrame'>\n",
      "RangeIndex: 29 entries, 0 to 28\n",
      "Data columns (total 24 columns):\n",
      " #   Column               Non-Null Count  Dtype  \n",
      "---  ------               --------------  -----  \n",
      " 0   Unnamed: 0           29 non-null     int64  \n",
      " 1   Brand                29 non-null     object \n",
      " 2   Car_type             29 non-null     object \n",
      " 3   Brandname_and_model  29 non-null     object \n",
      " 4   Model_type           28 non-null     object \n",
      " 5   Price                29 non-null     int64  \n",
      " 6   Price2               29 non-null     object \n",
      " 7   Seller_type          29 non-null     object \n",
      " 8   Selling_type         29 non-null     object \n",
      " 9   Listing_country      29 non-null     object \n",
      " 10  Listing_zip_code     29 non-null     int64  \n",
      " 11  Nb_previous_owners   29 non-null     object \n",
      " 12  Mileage              29 non-null     int64  \n",
      " 13  Mileage2             29 non-null     object \n",
      " 14  Power                29 non-null     object \n",
      " 15  Transmission         29 non-null     object \n",
      " 16  Fuel_type            29 non-null     object \n",
      " 17  Fuel_type2           29 non-null     object \n",
      " 18  Fuel_consumption     28 non-null     object \n",
      " 19  Fuel_emissions       29 non-null     object \n",
      " 20  First_registration   29 non-null     object \n",
      " 21  First_registration2  29 non-null     object \n",
      " 22  specific_model       27 non-null     float64\n",
      " 23  Power_CH             29 non-null     int64  \n",
      "dtypes: float64(1), int64(5), object(18)\n",
      "memory usage: 5.6+ KB\n"
     ]
    }
   ],
   "source": [
    "df.info()"
   ]
  },
  {
   "cell_type": "code",
   "execution_count": 7,
   "metadata": {},
   "outputs": [],
   "source": [
    "# List of standard dtypes: https://pandas.pydata.org/pandas-docs/stable/user_guide/basics.html#basics-dtypes\n",
    "# 'category' or np.CategoricalDtype, \n",
    "# 'int64' or np.int, \n",
    "# float64, \n",
    "# 'string' or np.str, \n",
    "# 'boolean' or np.bool\n",
    "\n",
    "df = df.astype({\n",
    "    'Brand': 'string',\n",
    "    'Car_type': 'string',\n",
    "    'Brandname_and_model': 'string', \n",
    "    'Model_type': 'string',\n",
    "    'Price': 'int64', \n",
    "    'Price2': 'string', \n",
    "    'Seller_type': 'category', \n",
    "    'Selling_type': 'category', \n",
    "    'Listing_country': 'category',\n",
    "    'Listing_zip_code': 'int64', \n",
    "    'Nb_previous_owners': 'string', \n",
    "    'Mileage': 'int64', \n",
    "    'Mileage2': 'string',\n",
    "    'Power': 'category', \n",
    "    'Transmission': 'category', \n",
    "    'Fuel_type': 'category', \n",
    "    'Fuel_type2': 'category', \n",
    "    'Fuel_consumption': 'string',\n",
    "    'Fuel_emissions': 'string', \n",
    "    'First_registration': 'string', \n",
    "    'First_registration2': 'string',\n",
    "    'specific_model': 'int64', \n",
    "    'Power_CH': 'int64'\n",
    "}, errors='ignore')"
   ]
  },
  {
   "cell_type": "code",
   "execution_count": 35,
   "metadata": {},
   "outputs": [],
   "source": [
    "# Display rows that contain a NA\n",
    "# df.loc[df.isna().any(axis=1)]\n",
    "\n",
    "# .cat.categories to get a list of categories/levels"
   ]
  },
  {
   "cell_type": "code",
   "execution_count": 8,
   "metadata": {},
   "outputs": [
    {
     "name": "stdout",
     "output_type": "stream",
     "text": [
      "<class 'pandas.core.frame.DataFrame'>\n",
      "RangeIndex: 29 entries, 0 to 28\n",
      "Data columns (total 24 columns):\n",
      " #   Column               Non-Null Count  Dtype   \n",
      "---  ------               --------------  -----   \n",
      " 0   Unnamed: 0           29 non-null     int64   \n",
      " 1   Brand                29 non-null     string  \n",
      " 2   Car_type             29 non-null     string  \n",
      " 3   Brandname_and_model  29 non-null     string  \n",
      " 4   Model_type           28 non-null     string  \n",
      " 5   Price                29 non-null     int64   \n",
      " 6   Price2               29 non-null     string  \n",
      " 7   Seller_type          29 non-null     category\n",
      " 8   Selling_type         29 non-null     category\n",
      " 9   Listing_country      29 non-null     category\n",
      " 10  Listing_zip_code     29 non-null     int64   \n",
      " 11  Nb_previous_owners   29 non-null     string  \n",
      " 12  Mileage              29 non-null     int64   \n",
      " 13  Mileage2             29 non-null     string  \n",
      " 14  Power                29 non-null     category\n",
      " 15  Transmission         29 non-null     category\n",
      " 16  Fuel_type            29 non-null     category\n",
      " 17  Fuel_type2           29 non-null     category\n",
      " 18  Fuel_consumption     28 non-null     string  \n",
      " 19  Fuel_emissions       29 non-null     string  \n",
      " 20  First_registration   29 non-null     string  \n",
      " 21  First_registration2  29 non-null     string  \n",
      " 22  specific_model       27 non-null     float64 \n",
      " 23  Power_CH             29 non-null     int64   \n",
      "dtypes: category(7), float64(1), int64(5), string(11)\n",
      "memory usage: 5.0 KB\n"
     ]
    }
   ],
   "source": [
    "df.info()"
   ]
  },
  {
   "cell_type": "code",
   "execution_count": 12,
   "metadata": {},
   "outputs": [],
   "source": [
    "# rounding the specific model to the first decimal\n",
    "df['specific_model'] = round(df['specific_model'], 1)"
   ]
  },
  {
   "cell_type": "markdown",
   "metadata": {},
   "source": [
    "# Streamlit"
   ]
  },
  {
   "cell_type": "code",
   "execution_count": 38,
   "metadata": {},
   "outputs": [],
   "source": [
    "import streamlit as st"
   ]
  },
  {
   "cell_type": "markdown",
   "metadata": {},
   "source": [
    "Very nice UI solution to filter and interact directly with a dataframe."
   ]
  },
  {
   "cell_type": "code",
   "execution_count": null,
   "metadata": {},
   "outputs": [],
   "source": [
    "# Documentation: https://blog.streamlit.io/auto-generate-a-dataframe-filtering-ui-in-streamlit-with-filter_dataframe/\n",
    "\n",
    "from pandas.api.types import (\n",
    "    is_categorical_dtype,\n",
    "    is_datetime64_any_dtype,\n",
    "    is_numeric_dtype,\n",
    "    is_object_dtype,\n",
    ")\n",
    "import pandas as pd\n",
    "import streamlit as st\n",
    "\n",
    "\n",
    "def filter_dataframe(df: pd.DataFrame) -> pd.DataFrame:\n",
    "    \"\"\"\n",
    "    Adds a UI on top of a dataframe to let viewers filter columns\n",
    "\n",
    "    Args:\n",
    "        df (pd.DataFrame): Original dataframe\n",
    "\n",
    "    Returns:\n",
    "        pd.DataFrame: Filtered dataframe\n",
    "    \"\"\"\n",
    "    modify = st.checkbox(\"Add filters\")\n",
    "\n",
    "    if not modify:\n",
    "        return df\n",
    "\n",
    "    df = df.copy()\n",
    "\n",
    "    # Try to convert datetimes into a standard format (datetime, no timezone)\n",
    "    for col in df.columns:\n",
    "        if is_object_dtype(df[col]):\n",
    "            try:\n",
    "                df[col] = pd.to_datetime(df[col])\n",
    "            except Exception:\n",
    "                pass\n",
    "\n",
    "        if is_datetime64_any_dtype(df[col]):\n",
    "            df[col] = df[col].dt.tz_localize(None)\n",
    "\n",
    "    modification_container = st.container()\n",
    "\n",
    "    with modification_container:\n",
    "        to_filter_columns = st.multiselect(\"Filter dataframe on\", df.columns)\n",
    "        for column in to_filter_columns:\n",
    "            left, right = st.columns((1, 20))\n",
    "            # Treat columns with < 10 unique values as categorical\n",
    "            if is_categorical_dtype(df[column]) or df[column].nunique() < 10:\n",
    "                user_cat_input = right.multiselect(\n",
    "                    f\"Values for {column}\",\n",
    "                    df[column].unique(),\n",
    "                    default=list(df[column].unique()),\n",
    "                )\n",
    "                df = df[df[column].isin(user_cat_input)]\n",
    "            elif is_numeric_dtype(df[column]):\n",
    "                _min = float(df[column].min())\n",
    "                _max = float(df[column].max())\n",
    "                step = (_max - _min) / 100\n",
    "                user_num_input = right.slider(\n",
    "                    f\"Values for {column}\",\n",
    "                    min_value=_min,\n",
    "                    max_value=_max,\n",
    "                    value=(_min, _max),\n",
    "                    step=step,\n",
    "                )\n",
    "                df = df[df[column].between(*user_num_input)]\n",
    "            elif is_datetime64_any_dtype(df[column]):\n",
    "                user_date_input = right.date_input(\n",
    "                    f\"Values for {column}\",\n",
    "                    value=(\n",
    "                        df[column].min(),\n",
    "                        df[column].max(),\n",
    "                    ),\n",
    "                )\n",
    "                if len(user_date_input) == 2:\n",
    "                    user_date_input = tuple(map(pd.to_datetime, user_date_input))\n",
    "                    start_date, end_date = user_date_input\n",
    "                    df = df.loc[df[column].between(start_date, end_date)]\n",
    "            else:\n",
    "                user_text_input = right.text_input(\n",
    "                    f\"Substring or regex in {column}\",\n",
    "                )\n",
    "                if user_text_input:\n",
    "                    df = df[df[column].astype(str).str.contains(user_text_input)]\n",
    "\n",
    "    return df"
   ]
  },
  {
   "cell_type": "code",
   "execution_count": null,
   "metadata": {},
   "outputs": [],
   "source": [
    "\n",
    "st.markdown(\" ## DataFrame\")\n",
    "# start with df\n",
    "cols = select_columns(df)\n",
    "data = filter_dataframe(df[cols])           # this is the dataframe that is going to be displayed\n",
    "\n",
    "# we add some pandas styling to the columns (e.g. 1.4000 becomes 1.4)\n",
    "styled_data = data.style.format({\n",
    "    'specific_model':'{:.1f}',       #displays only one decimal\n",
    "    'Price': '{:,.0f}',                 # displays 10000 into 10,000\n",
    "    'Mileage':'{:,.0f}'\n",
    "    })                        \n",
    "st.dataframe(styled_data, width = 1500, height=1000)"
   ]
  },
  {
   "cell_type": "markdown",
   "metadata": {},
   "source": [
    "Can also use the AgGrid for interactive DF."
   ]
  },
  {
   "cell_type": "code",
   "execution_count": null,
   "metadata": {},
   "outputs": [],
   "source": [
    "from st_aggrid import GridOptionsBuilder, AgGrid, GridUpdateMode, DataReturnMode\n",
    "AgGrid(data=df)"
   ]
  }
 ],
 "metadata": {
  "kernelspec": {
   "display_name": "Python 3.10.6 ('speech_analytics')",
   "language": "python",
   "name": "python3"
  },
  "language_info": {
   "codemirror_mode": {
    "name": "ipython",
    "version": 3
   },
   "file_extension": ".py",
   "mimetype": "text/x-python",
   "name": "python",
   "nbconvert_exporter": "python",
   "pygments_lexer": "ipython3",
   "version": "3.10.6"
  },
  "orig_nbformat": 4,
  "vscode": {
   "interpreter": {
    "hash": "b810243e15caf8cf91c8d6eeb73d66179b5c7b510ea512404f0bb2b9a1174195"
   }
  }
 },
 "nbformat": 4,
 "nbformat_minor": 2
}
